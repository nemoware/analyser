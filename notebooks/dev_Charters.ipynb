{
  "nbformat": 4,
  "nbformat_minor": 0,
  "metadata": {
    "colab": {
      "name": "dev Charters.ipynb",
      "provenance": [],
      "private_outputs": true,
      "collapsed_sections": [
        "JJjbZeN6Pbtx",
        "0n-DlKATL2JQ",
        "Aejr-po6QVeZ"
      ],
      "toc_visible": true
    },
    "kernelspec": {
      "name": "python3",
      "display_name": "Python 3"
    },
    "accelerator": "GPU"
  },
  "cells": [
    {
      "cell_type": "markdown",
      "metadata": {
        "id": "JJjbZeN6Pbtx",
        "colab_type": "text"
      },
      "source": [
        "# CHARTERS analyse \n",
        "## Instruction:\n",
        "1. On the left-side panel, change to Files tab \n",
        "2. Upload a charter file\n",
        "3. Right click on the uploaded file -> Copy path\n",
        "2. Enter (paste) its path/name into the 'Read doc' form below\n",
        "3. top menu: Runtime/run all\n",
        "\n",
        "requires https://github.com/nemoware/document-parser/releases"
      ]
    },
    {
      "cell_type": "code",
      "metadata": {
        "id": "OQnl3VnQZQML",
        "colab_type": "code",
        "colab": {}
      },
      "source": [
        "_git_branch = 'charters-limitations'\n",
        "\n",
        "\n",
        "lib_version = '1.1.15' #Document parser, refer https://github.com/nemoware/document-parser/releases"
      ],
      "execution_count": 0,
      "outputs": []
    },
    {
      "cell_type": "markdown",
      "metadata": {
        "id": "0n-DlKATL2JQ",
        "colab_type": "text"
      },
      "source": [
        "# INIT"
      ]
    },
    {
      "cell_type": "markdown",
      "metadata": {
        "id": "WPEjJV3Elb8t",
        "colab_type": "text"
      },
      "source": [
        "## pull code"
      ]
    },
    {
      "cell_type": "code",
      "metadata": {
        "id": "ZPFNIoGZL198",
        "colab_type": "code",
        "colab": {}
      },
      "source": [
        "import json\n",
        "import subprocess\n",
        "import sys\n",
        "import time\n",
        "\n",
        "import numpy as np\n",
        "from IPython.core.display import display, HTML\n",
        "from google.colab import files\n",
        "\n",
        "!pip install overrides\n",
        "\n",
        "Ничто = None\n",
        "\n",
        "\n",
        "\n",
        "def exec(x):\n",
        "  r = subprocess.check_output(x, shell=True)\n",
        "  r = r.decode('unicode-escape').encode('latin1').decode('utf8')\n",
        "  print(r)\n",
        "\n",
        "\n",
        "print(f\"fetching code from GitHub.....{_git_branch}\")\n",
        "try:\n",
        "  exec('rm -r nlp_tools')\n",
        "except:\n",
        "  pass\n",
        "exec(f'git clone --single-branch --branch {_git_branch} https://github.com/nemoware/analyser.git nlp_tools')\n",
        "\n",
        "print('🦊 GIT revision:')\n",
        "exec('cd nlp_tools\\ngit rev-list --reverse HEAD | awk \"{ print NR }\" | tail -n 1\\ngit branch\\ngit log -3 --pretty=%B')\n",
        "\n",
        "sys.path.insert(0, 'nlp_tools')\n",
        "\n",
        "print('❤️importing Code from GitHub ... DONE')\n",
        "\n",
        "\n",
        "#----\n",
        "import matplotlib as mpl\n",
        "from analyser.documents import TextMap\n",
        "from analyser.legal_docs import DocumentJson\n",
        "from colab_support.renderer import HtmlRenderer\n",
        "\n",
        " \n",
        "\n",
        "class DemoRenderer(HtmlRenderer):\n",
        "  def render_color_text(self, tokens, weights, colormap='coolwarm', print_debug=False, _range=None, separator=' '):\n",
        "    html = self.to_color_text(tokens, weights, colormap, print_debug, _range, separator=separator)\n",
        "    display(HTML(html))\n",
        "\n",
        "  def to_color_text(self, tokens, weights, colormap='coolwarm', print_debug=False, _range=None, separator=' '):\n",
        "    return super()._to_color_text(tokens, weights, mpl, colormap=colormap, _range=_range, separator=separator)\n",
        "\n",
        "   \n",
        "renderer_ = DemoRenderer()\n",
        "\n",
        "def print_json_summary(cd:DocumentJson):\n",
        "  wordsmap = TextMap(cd.normal_text, cd.tokenization_maps['$words'])\n",
        "  print(f'read file {cd.filename}')\n",
        "\n",
        "  for tag in cd.tags:\n",
        "    span = tag.span\n",
        "    _map = cd.tokenization_maps[tag.span_map]\n",
        "    print(tag)\n",
        " \n",
        "  "
      ],
      "execution_count": 0,
      "outputs": []
    },
    {
      "cell_type": "code",
      "metadata": {
        "id": "U_mlpzzdNAWw",
        "colab_type": "code",
        "colab": {}
      },
      "source": [
        "!pip install pyjarowinkler"
      ],
      "execution_count": 0,
      "outputs": []
    },
    {
      "cell_type": "markdown",
      "metadata": {
        "id": "XKMB4pkuu2wi",
        "colab_type": "text"
      },
      "source": [
        "### Init document-parser lib"
      ]
    },
    {
      "cell_type": "code",
      "metadata": {
        "id": "415zlWl16SLf",
        "colab_type": "code",
        "colab": {}
      },
      "source": [
        "\n",
        "import os\n",
        "if not os.path.isfile(f'document-parser-{lib_version}-distribution.zip'):\n",
        "  !wget https://github.com/nemoware/document-parser/releases/download/$lib_version/document-parser-$lib_version-distribution.zip\n",
        "if not os.path.isdir(f'document-parser-{lib_version}'):\n",
        "  !unzip document-parser-$lib_version-distribution.zip\n",
        "\n",
        " \n",
        "os.environ ['documentparser']=f'/content/document-parser-{lib_version}'\n",
        "from integration.word_document_parser import WordDocParser, join_paragraphs\n",
        "wp = WordDocParser()"
      ],
      "execution_count": 0,
      "outputs": []
    },
    {
      "cell_type": "markdown",
      "metadata": {
        "colab_type": "text",
        "id": "mlw0zEdTs0oN"
      },
      "source": [
        "### imports"
      ]
    },
    {
      "cell_type": "code",
      "metadata": {
        "colab_type": "code",
        "id": "ZJp3CFJXs0oR",
        "colab": {}
      },
      "source": [
        "import os\n",
        "import pickle\n",
        "import unittest\n",
        "\n",
        "import numpy as np\n",
        "\n",
        "from analyser.charter_parser import CharterParser \n",
        "from analyser.parsing import AuditContext\n",
        "\n",
        "from analyser.legal_docs import LegalDocument\n",
        "from analyser.ml_tools import *\n",
        "from analyser.text_tools import *\n",
        "\n",
        "from tf_support.embedder_elmo import ElmoEmbedder\n",
        " "
      ],
      "execution_count": 0,
      "outputs": []
    },
    {
      "cell_type": "code",
      "metadata": {
        "id": "r3k194xUFy20",
        "colab_type": "code",
        "colab": {}
      },
      "source": [
        "from tf_support.embedder_elmo import ElmoEmbedder\n",
        "elmo_embedder = ElmoEmbedder()\n",
        "elmo_embedder_default = ElmoEmbedder(layer_name='default')"
      ],
      "execution_count": 0,
      "outputs": []
    },
    {
      "cell_type": "markdown",
      "metadata": {
        "id": "eCveVZqvNhsr",
        "colab_type": "text"
      },
      "source": [
        "## 💅 Init Embedder(s)"
      ]
    },
    {
      "cell_type": "code",
      "metadata": {
        "id": "N2ttjnsaMC3i",
        "colab_type": "code",
        "colab": {}
      },
      "source": [
        "charter_analyser = CharterParser(elmo_embedder, elmo_embedder_default)"
      ],
      "execution_count": 0,
      "outputs": []
    },
    {
      "cell_type": "markdown",
      "metadata": {
        "id": "UDRIF48ks3OV",
        "colab_type": "text"
      },
      "source": [
        "# Read doc"
      ]
    },
    {
      "cell_type": "code",
      "metadata": {
        "id": "waeVpcnaLgEJ",
        "colab_type": "code",
        "cellView": "form",
        "colab": {}
      },
      "source": [
        "#@title Enter uploaded file path\n",
        "\n",
        "filename = '/content/\\u0423\\u0441\\u0442\\u0430\\u0432 - \\u0413\\u041F\\u041D-\\u0422\\u0440\\u0430\\u043D\\u0441\\u043F\\u043E\\u0440\\u0442_\\u0413\\u041E\\u0421\\u0410-2018.docx' #@param {type:\"string\"}\n",
        "subsidiary_name = '--\\u041E\\u043F\\u0446\\u0438\\u043E\\u043D\\u0430\\u043B\\u044C\\u043D\\u043E--' #@param {type:\"string\"}\n",
        "\n",
        "\n",
        "results = wp.read_doc(filename)\n",
        "for doc in results['documents'][:1]:  # XXX\n",
        "  if 'CHARTER' == doc['documentType']:    \n",
        "    doc = join_paragraphs(doc, 'no_id')\n",
        "\n",
        "\n",
        "for p in doc.paragraphs:\n",
        "  print ('☢️', p.header.value.strip())"
      ],
      "execution_count": 0,
      "outputs": []
    },
    {
      "cell_type": "markdown",
      "metadata": {
        "id": "pEgJ63pck0tM",
        "colab_type": "text"
      },
      "source": [
        "# 🧠 Analyse PHASE 0"
      ]
    },
    {
      "cell_type": "code",
      "metadata": {
        "id": "IrQOg1UimOtg",
        "colab_type": "code",
        "colab": {}
      },
      "source": [
        "# =====================================\n",
        "from analyser.parsing import AuditContext\n",
        "actx = AuditContext()\n",
        "charter_analyser.find_org_date_number(doc, actx)"
      ],
      "execution_count": 0,
      "outputs": []
    },
    {
      "cell_type": "markdown",
      "metadata": {
        "id": "Aejr-po6QVeZ",
        "colab_type": "text"
      },
      "source": [
        "### render PHASE 0 results \n",
        "(note, doc trimmed to 300 words)"
      ]
    },
    {
      "cell_type": "code",
      "metadata": {
        "id": "LEYJEzygQO9U",
        "colab_type": "code",
        "colab": {}
      },
      "source": [
        "for t in doc.get_tags():\n",
        "  print(t)\n",
        "print('\\n\\n')\n",
        "\n",
        "renderer_.render_color_text(doc.tokens[0:300],  doc.get_tags_attention()[0:300] )\n",
        "\n"
      ],
      "execution_count": 0,
      "outputs": []
    },
    {
      "cell_type": "markdown",
      "metadata": {
        "id": "mUIhU4cCQhRx",
        "colab_type": "text"
      },
      "source": [
        "# 🧠 Analyse PHASE 1 \n",
        "(requires phase 0)"
      ]
    },
    {
      "cell_type": "code",
      "metadata": {
        "id": "pr733JbFQj4F",
        "colab_type": "code",
        "colab": {}
      },
      "source": [
        "charter_analyser.find_attributes(doc, actx)"
      ],
      "execution_count": 0,
      "outputs": []
    },
    {
      "cell_type": "markdown",
      "metadata": {
        "id": "RtldMdmoQpj-",
        "colab_type": "text"
      },
      "source": [
        "### render PHASE 1 results"
      ]
    },
    {
      "cell_type": "markdown",
      "metadata": {
        "id": "gFHhANCjntSj",
        "colab_type": "text"
      },
      "source": [
        "#### Charter limitations"
      ]
    },
    {
      "cell_type": "code",
      "metadata": {
        "id": "uVeRyAhSnr7n",
        "colab_type": "code",
        "colab": {}
      },
      "source": [
        "_P = '\\033[1;31m'\n",
        "ta=doc.get_tags_attention()\n",
        "for t in doc.constraint_tags + doc.charity_tags:\n",
        "  print('>'*100)\n",
        "  print(t.get_key())\n",
        "  print(f'☢{_P} {t.confidence:1.4f}', t.value.display_string.upper())\n",
        "  \n",
        "  len_ = t.span[1]-t.span[0]\n",
        "  if len_ < 300:\n",
        "    renderer_.render_color_text(doc.tokens[t.as_slice()], ta[[t.as_slice()]]*0.05 +  [t.confidence]*len_  , _range=(0.66, 1) )\n",
        "  \n",
        "  print('^'*100)"
      ],
      "execution_count": 0,
      "outputs": []
    },
    {
      "cell_type": "code",
      "metadata": {
        "id": "tzPEiquCFEx3",
        "colab_type": "code",
        "colab": {}
      },
      "source": [
        "\n",
        "for t in doc.get_tags():\n",
        "  print('☢️','>'*100)\n",
        "  print(t)\n",
        "  # print(doc.substr(t))\n",
        "  if t.span[1]-t.span[0] < 300:\n",
        "    renderer_.render_color_text(doc.tokens[t.as_slice()],  ta[t.as_slice()], _range=(0.1,5) )\n",
        "  \n",
        "  print('^'*100)\n",
        "print('\\n\\n')\n"
      ],
      "execution_count": 0,
      "outputs": []
    },
    {
      "cell_type": "code",
      "metadata": {
        "id": "t3WdYkomO1nN",
        "colab_type": "code",
        "colab": {}
      },
      "source": [
        "renderer_.render_color_text(doc.tokens,  ta )"
      ],
      "execution_count": 0,
      "outputs": []
    },
    {
      "cell_type": "markdown",
      "metadata": {
        "id": "ylTE3isTYq7e",
        "colab_type": "text"
      },
      "source": [
        "# save to JSON"
      ]
    },
    {
      "cell_type": "code",
      "metadata": {
        "id": "XNG4G5_RY7d3",
        "colab_type": "code",
        "colab": {}
      },
      "source": [
        "fn =  f'{filename}.json'\n",
        "print('saving JSON to', fn)\n",
        "\n",
        "with open(fn, 'w') as file:\n",
        "  jjj = DocumentJson(doc)\n",
        "  file.write(jjj.dumps())\n",
        "  "
      ],
      "execution_count": 0,
      "outputs": []
    },
    {
      "cell_type": "code",
      "metadata": {
        "id": "ADGhJ8CxuqtU",
        "colab_type": "code",
        "colab": {}
      },
      "source": [
        "doc.to_json_obj()['warnings']"
      ],
      "execution_count": 0,
      "outputs": []
    },
    {
      "cell_type": "code",
      "metadata": {
        "id": "NsMYnR_WKjpr",
        "colab_type": "code",
        "colab": {}
      },
      "source": [
        "doc.to_json_obj()['attributes']"
      ],
      "execution_count": 0,
      "outputs": []
    },
    {
      "cell_type": "markdown",
      "metadata": {
        "id": "rTt2BfprqvU4",
        "colab_type": "text"
      },
      "source": [
        "# Debug"
      ]
    },
    {
      "cell_type": "code",
      "metadata": {
        "id": "O8xsL4l7qxSV",
        "colab_type": "code",
        "colab": {}
      },
      "source": [
        "from analyser.structures import OrgStructuralLevel, CharterSubject\n",
        "from analyser.contract_parser import _find_most_relevant_paragraph, find_value_sign_currency_attention\n",
        "from analyser.charter_parser import get_charter_subj_attentions, collect_subjects_spans\n",
        "org_levels = [k for k in OrgStructuralLevel]\n",
        "# del charter_subjects\n",
        "# charter_subjects = [k for k in CharterSubject]\n",
        "\n",
        "sample_org_level_tag = None\n",
        "for t in doc.get_tags():\n",
        "  if t.value in org_levels:\n",
        "    print(t.value)\n",
        "    sample_org_level_tag = t\n",
        "    # break\n",
        "\n",
        "subdoc = doc[sample_org_level_tag.as_slice() ]\n",
        "subject_attentions_map = get_charter_subj_attentions(subdoc, charter_analyser.subj_patterns_embeddings)\n",
        "\n",
        "\n",
        "\n",
        "subject_spans = collect_subjects_spans(subdoc, subject_attentions_map)\n",
        "# renderer_.render_color_text(subdoc.tokens,  paragraph_attention_vector )\n"
      ],
      "execution_count": 0,
      "outputs": []
    },
    {
      "cell_type": "code",
      "metadata": {
        "id": "V-0V2y0YwH4A",
        "colab_type": "code",
        "colab": {}
      },
      "source": [
        "constraint_tags, subject_attentions_map = charter_analyser.attribute_spans_to_subjects(subject_spans, subdoc, sample_org_level_tag)\n",
        "constraint_tags\n",
        "\n",
        "for t in constraint_tags:\n",
        "  print('⚡️')\n",
        "  print(t)\n",
        "  print(doc.substr(t))"
      ],
      "execution_count": 0,
      "outputs": []
    },
    {
      "cell_type": "code",
      "metadata": {
        "id": "ZgjSRIqzGMIV",
        "colab_type": "code",
        "colab": {}
      },
      "source": [
        "from analyser.legal_docs import ContractValue, LegalDocumentExt\n",
        "from analyser.charter_parser import collect_sentences_having_constraint_values\n",
        "\n",
        "\n",
        "contract_values: [ContractValue] = find_value_sign_currency_attention(subdoc, None)\n",
        "valued_sentence_spans = collect_sentences_having_constraint_values(subdoc, contract_values, merge_spans=True)\n",
        "valued_sentence_spans "
      ],
      "execution_count": 0,
      "outputs": []
    },
    {
      "cell_type": "code",
      "metadata": {
        "id": "ZNyBZ9mFJ6Qu",
        "colab_type": "code",
        "colab": {}
      },
      "source": [
        "for sp in valued_sentence_spans:\n",
        "  print('-'*100)\n",
        "  print(subdoc.tokens_map.text_range(sp ))\n"
      ],
      "execution_count": 0,
      "outputs": []
    },
    {
      "cell_type": "code",
      "metadata": {
        "id": "iduOQVWtGl4v",
        "colab_type": "code",
        "colab": {}
      },
      "source": [
        "united_spans = []\n",
        "for c in valued_sentence_spans:\n",
        "  united_spans.append(c)\n",
        "for c in subject_spans:\n",
        "  united_spans.append(c)\n",
        "\n",
        "united_spans = merge_colliding_spans(united_spans)\n",
        "united_spans\n",
        "\n",
        "\n",
        "constraint_tags, subject_attentions_map = charter_analyser.attribute_spans_to_subjects(united_spans, subdoc, sample_org_level_tag)\n",
        "constraint_tags\n",
        "\n",
        "for t in constraint_tags:\n",
        "  print('⚡️')\n",
        "  print(t)\n",
        "  print(doc.substr(t))"
      ],
      "execution_count": 0,
      "outputs": []
    }
  ]
}