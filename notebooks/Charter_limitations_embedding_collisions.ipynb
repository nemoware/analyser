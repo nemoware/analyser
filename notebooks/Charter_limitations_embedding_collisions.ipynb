{
  "nbformat": 4,
  "nbformat_minor": 0,
  "metadata": {
    "colab": {
      "name": "Charter limitations embedding collisions.ipynb",
      "provenance": [],
      "collapsed_sections": []
    },
    "kernelspec": {
      "name": "python3",
      "display_name": "Python 3"
    }
  },
  "cells": [
    {
      "cell_type": "code",
      "metadata": {
        "id": "OQnl3VnQZQML",
        "colab_type": "code",
        "colab": {}
      },
      "source": [
        "_git_branch = 'charters-limitations'\n",
        "\n",
        "#Document parser, refer https://github.com/nemoware/document-parser/releases\n",
        "lib_version = '1.1.15'"
      ],
      "execution_count": 0,
      "outputs": []
    },
    {
      "cell_type": "markdown",
      "metadata": {
        "id": "0n-DlKATL2JQ",
        "colab_type": "text"
      },
      "source": [
        "# INIT (comon for the project)"
      ]
    },
    {
      "cell_type": "markdown",
      "metadata": {
        "id": "WPEjJV3Elb8t",
        "colab_type": "text"
      },
      "source": [
        "## pull code"
      ]
    },
    {
      "cell_type": "code",
      "metadata": {
        "id": "U_mlpzzdNAWw",
        "colab_type": "code",
        "colab": {
          "base_uri": "https://localhost:8080/",
          "height": 34
        },
        "outputId": "fc8afb84-67a7-4e62-c634-dc81775b257e"
      },
      "source": [
        "!pip install pyjarowinkler"
      ],
      "execution_count": 55,
      "outputs": [
        {
          "output_type": "stream",
          "text": [
            "Requirement already satisfied: pyjarowinkler in /usr/local/lib/python3.6/dist-packages (1.8)\n"
          ],
          "name": "stdout"
        }
      ]
    },
    {
      "cell_type": "code",
      "metadata": {
        "id": "ZPFNIoGZL198",
        "colab_type": "code",
        "colab": {
          "base_uri": "https://localhost:8080/",
          "height": 283
        },
        "outputId": "ddc46b73-6a79-43da-b252-3a90d5c131c4"
      },
      "source": [
        "import json\n",
        "import subprocess\n",
        "import sys\n",
        "import time\n",
        "\n",
        "import numpy as np\n",
        "from IPython.core.display import display, HTML\n",
        "from google.colab import files\n",
        "\n",
        "!pip install overrides\n",
        "\n",
        "Ничто = None\n",
        "\n",
        "\n",
        "\n",
        "def exec(x):\n",
        "  r = subprocess.check_output(x, shell=True)\n",
        "  r = r.decode('unicode-escape').encode('latin1').decode('utf8')\n",
        "  print(r)\n",
        "\n",
        "\n",
        "print(f\"fetching code from GitHub.....{_git_branch}\")\n",
        "try:\n",
        "  exec('rm -r nlp_tools')\n",
        "except:\n",
        "  pass\n",
        "exec(f'git clone --single-branch --branch {_git_branch} https://github.com/nemoware/analyser.git nlp_tools')\n",
        "\n",
        "print('🦊 GIT revision:')\n",
        "exec('cd nlp_tools\\ngit rev-list --reverse HEAD | awk \"{ print NR }\" | tail -n 1\\ngit branch\\ngit log -3 --pretty=%B')\n",
        "\n",
        "sys.path.insert(0, 'nlp_tools')\n",
        "\n",
        "print('❤️importing Code from GitHub ... DONE')\n",
        "\n",
        "\n",
        "\n",
        "\n",
        "\n",
        "\n",
        " "
      ],
      "execution_count": 54,
      "outputs": [
        {
          "output_type": "stream",
          "text": [
            "Requirement already satisfied: overrides in /usr/local/lib/python3.6/dist-packages (2.6)\n",
            "fetching code from GitHub.....charters-limitations\n",
            "\n",
            "\n",
            "🦊 GIT revision:\n",
            "1134\n",
            "* charters-limitations\n",
            "Tune split_into_sentences\n",
            "\n",
            "Organize code\n",
            "\n",
            "+charter_sentence_max_len param\n",
            "\n",
            "\n",
            "❤️importing Code from GitHub ... DONE\n"
          ],
          "name": "stdout"
        }
      ]
    },
    {
      "cell_type": "markdown",
      "metadata": {
        "id": "1k79GLLDNV8A",
        "colab_type": "text"
      },
      "source": [
        "#### rendering tools"
      ]
    },
    {
      "cell_type": "code",
      "metadata": {
        "id": "LPPAZvH8NVKU",
        "colab_type": "code",
        "colab": {}
      },
      "source": [
        "\n",
        "#----\n",
        "import matplotlib as mpl\n",
        "from colab_support.renderer import HtmlRenderer\n",
        "from analyser.documents import TextMap\n",
        "from analyser.legal_docs import DocumentJson\n",
        "\n",
        "class DemoRenderer(HtmlRenderer):\n",
        "  def render_color_text(self, tokens, weights, colormap='coolwarm', print_debug=False, _range=None, separator=' '):\n",
        "    html = self.to_color_text(tokens, weights, colormap, print_debug, _range, separator=separator)\n",
        "    display(HTML(html))\n",
        "\n",
        "  def to_color_text(self, tokens, weights, colormap='coolwarm', print_debug=False, _range=None, separator=' '):\n",
        "    return super()._to_color_text(tokens, weights, mpl, colormap=colormap, _range=_range, separator=separator)\n",
        "\n",
        "   \n",
        "renderer_ = DemoRenderer()\n",
        "\n",
        "\n",
        " \n",
        "import seaborn as sns\n",
        "import numpy as np\n",
        "import matplotlib as mpl\n",
        "import matplotlib.pyplot as plt\n",
        "def plot_similarity(matrix, rotation):  \n",
        "  sns.set(font_scale=1.0)\n",
        "  g = sns.heatmap(\n",
        "      matrix,\n",
        "      vmin=matrix.min(),\n",
        "      vmax=matrix.max(),\n",
        "      annot=False, \n",
        "      cmap=\"YlOrRd\"\n",
        "  )"
      ],
      "execution_count": 0,
      "outputs": []
    },
    {
      "cell_type": "markdown",
      "metadata": {
        "colab_type": "text",
        "id": "mlw0zEdTs0oN"
      },
      "source": [
        "### imports"
      ]
    },
    {
      "cell_type": "code",
      "metadata": {
        "colab_type": "code",
        "id": "ZJp3CFJXs0oR",
        "colab": {}
      },
      "source": [
        "import os\n",
        "import pickle\n",
        "import unittest\n",
        "\n",
        "import numpy as np\n",
        "\n",
        "from analyser.contract_parser import ContractAnlysingContext, ContractDocument\n",
        "from analyser.contract_parser import find_value_sign_currency_attention\n",
        " \n",
        "from analyser.hyperparams import HyperParameters\n",
        "from analyser.parsing import AuditContext\n",
        "\n",
        "from analyser.legal_docs import LegalDocument, ContractValue\n",
        "from analyser.ml_tools import *\n",
        "from analyser.patterns import *\n",
        "from analyser.text_tools import *\n",
        "\n",
        "from tf_support.embedder_elmo import ElmoEmbedder\n",
        " "
      ],
      "execution_count": 0,
      "outputs": []
    },
    {
      "cell_type": "code",
      "metadata": {
        "id": "r3k194xUFy20",
        "colab_type": "code",
        "colab": {
          "base_uri": "https://localhost:8080/",
          "height": 87
        },
        "outputId": "335a6698-bdd2-4f6f-cc83-37a0dfb0098c"
      },
      "source": [
        "from tf_support.embedder_elmo import ElmoEmbedder\n",
        "elmo_embedder = ElmoEmbedder()\n",
        "elmo_embedder_default = ElmoEmbedder(layer_name='default')"
      ],
      "execution_count": 57,
      "outputs": [
        {
          "output_type": "stream",
          "text": [
            "INFO:tensorflow:Saver not created because there are no variables in the graph to restore\n"
          ],
          "name": "stdout"
        },
        {
          "output_type": "stream",
          "text": [
            "INFO:tensorflow:Saver not created because there are no variables in the graph to restore\n"
          ],
          "name": "stderr"
        },
        {
          "output_type": "stream",
          "text": [
            "INFO:tensorflow:Saver not created because there are no variables in the graph to restore\n"
          ],
          "name": "stdout"
        },
        {
          "output_type": "stream",
          "text": [
            "INFO:tensorflow:Saver not created because there are no variables in the graph to restore\n"
          ],
          "name": "stderr"
        }
      ]
    },
    {
      "cell_type": "markdown",
      "metadata": {
        "id": "8_bQ2dDZAFOQ",
        "colab_type": "text"
      },
      "source": [
        "# Compare subjects"
      ]
    },
    {
      "cell_type": "markdown",
      "metadata": {
        "id": "ZnZ9wIZpP110",
        "colab_type": "text"
      },
      "source": [
        "### Read data"
      ]
    },
    {
      "cell_type": "code",
      "metadata": {
        "id": "CnZgD9UKAINR",
        "colab_type": "code",
        "colab": {
          "base_uri": "https://localhost:8080/",
          "height": 904
        },
        "outputId": "e8f97ab4-3d1d-4358-e85c-3d2d36830391"
      },
      "source": [
        "import pandas as pd\n",
        "import analyser.hyperparams as hp\n",
        "codebasepath = os.path.realpath(os.path.join(os.getcwd(), os.path.dirname(hp.__file__)))\n",
        "\n",
        "samples = pd.read_csv(os.path.join(codebasepath, 'vocab', 'charter.limitations.samples.csv'))\n",
        "samples"
      ],
      "execution_count": 58,
      "outputs": [
        {
          "output_type": "execute_result",
          "data": {
            "text/html": [
              "<div>\n",
              "<style scoped>\n",
              "    .dataframe tbody tr th:only-of-type {\n",
              "        vertical-align: middle;\n",
              "    }\n",
              "\n",
              "    .dataframe tbody tr th {\n",
              "        vertical-align: top;\n",
              "    }\n",
              "\n",
              "    .dataframe thead th {\n",
              "        text-align: right;\n",
              "    }\n",
              "</style>\n",
              "<table border=\"1\" class=\"dataframe\">\n",
              "  <thead>\n",
              "    <tr style=\"text-align: right;\">\n",
              "      <th></th>\n",
              "      <th>Тип документа\\n (Договор, \\n Протокол, \\n Устав)</th>\n",
              "      <th>Наименование</th>\n",
              "      <th>Полное предложение</th>\n",
              "      <th>Unnamed: 3</th>\n",
              "      <th>Unnamed: 4</th>\n",
              "    </tr>\n",
              "  </thead>\n",
              "  <tbody>\n",
              "    <tr>\n",
              "      <th>0</th>\n",
              "      <td>Устав</td>\n",
              "      <td>Сделки</td>\n",
              "      <td>принятие решений о совершении сделок (в том чи...</td>\n",
              "      <td>принятие решений о совершении сделок (в том чи...</td>\n",
              "      <td>NaN</td>\n",
              "    </tr>\n",
              "    <tr>\n",
              "      <th>1</th>\n",
              "      <td>Устав</td>\n",
              "      <td>Сделки с имуществом</td>\n",
              "      <td>сделок (в том числе нескольких взаимосвязанных...</td>\n",
              "      <td>и сделок (в том числе нескольких взаимосвязанн...</td>\n",
              "      <td>NaN</td>\n",
              "    </tr>\n",
              "    <tr>\n",
              "      <th>2</th>\n",
              "      <td>Устав</td>\n",
              "      <td>Сделки с займами/кредитами</td>\n",
              "      <td>принятие решений о совершении сделок, связанны...</td>\n",
              "      <td>NaN</td>\n",
              "      <td>принятие решения о согласии на совершение или ...</td>\n",
              "    </tr>\n",
              "    <tr>\n",
              "      <th>3</th>\n",
              "      <td>Устав</td>\n",
              "      <td>Продажа и отчуждение недвижимого имущества</td>\n",
              "      <td>принятие решений о совершении сделок, связанны...</td>\n",
              "      <td>NaN</td>\n",
              "      <td>принятие решения о согласии на совершение или ...</td>\n",
              "    </tr>\n",
              "    <tr>\n",
              "      <th>4</th>\n",
              "      <td>Устав</td>\n",
              "      <td>Передача в аренду</td>\n",
              "      <td>принятие решений о совершении сделок, связанны...</td>\n",
              "      <td>NaN</td>\n",
              "      <td>принятие решения о согласии на совершение или ...</td>\n",
              "    </tr>\n",
              "    <tr>\n",
              "      <th>5</th>\n",
              "      <td>Устав</td>\n",
              "      <td>Получение в аренду недвижимого имущества</td>\n",
              "      <td>принятие решений о совершении сделок, связанны...</td>\n",
              "      <td>NaN</td>\n",
              "      <td>NaN</td>\n",
              "    </tr>\n",
              "    <tr>\n",
              "      <th>6</th>\n",
              "      <td>Устав</td>\n",
              "      <td>Отказ от аренды земельных участков</td>\n",
              "      <td>принятие решений об отказе от аренды/субаренды...</td>\n",
              "      <td>NaN</td>\n",
              "      <td>NaN</td>\n",
              "    </tr>\n",
              "    <tr>\n",
              "      <th>7</th>\n",
              "      <td>Устав</td>\n",
              "      <td>Сделки с ценными бумагами</td>\n",
              "      <td>принятие решений о совершении сделок, связанны...</td>\n",
              "      <td>NaN</td>\n",
              "      <td>принятие решения о согласии на совершение или ...</td>\n",
              "    </tr>\n",
              "    <tr>\n",
              "      <th>8</th>\n",
              "      <td>Устав</td>\n",
              "      <td>Сделки передачи в залог уставных капиталов и а...</td>\n",
              "      <td>принятие решений о совершении сделок, связанны...</td>\n",
              "      <td>NaN</td>\n",
              "      <td>NaN</td>\n",
              "    </tr>\n",
              "    <tr>\n",
              "      <th>9</th>\n",
              "      <td>Устав</td>\n",
              "      <td>Благотворительность</td>\n",
              "      <td>принятие решений о совершении сделок мены, дар...</td>\n",
              "      <td>NaN</td>\n",
              "      <td>принятие решения о согласии на совершение или ...</td>\n",
              "    </tr>\n",
              "    <tr>\n",
              "      <th>10</th>\n",
              "      <td>Устав</td>\n",
              "      <td>Сделки с заинтересованностью</td>\n",
              "      <td>принятие решения о согласии на совершение Обще...</td>\n",
              "      <td>принятие решения о согласии на совершение Обще...</td>\n",
              "      <td>принятие решения о согласии на совершение или ...</td>\n",
              "    </tr>\n",
              "    <tr>\n",
              "      <th>11</th>\n",
              "      <td>Устав</td>\n",
              "      <td>Крупная сделка</td>\n",
              "      <td>принятие решения о согласии на совершение круп...</td>\n",
              "      <td>NaN</td>\n",
              "      <td>принятие решения о согласии на совершение или ...</td>\n",
              "    </tr>\n",
              "    <tr>\n",
              "      <th>12</th>\n",
              "      <td>Устав</td>\n",
              "      <td>Крупная сделка</td>\n",
              "      <td>принятие решения о согласии на совершение Обще...</td>\n",
              "      <td>NaN</td>\n",
              "      <td>NaN</td>\n",
              "    </tr>\n",
              "    <tr>\n",
              "      <th>13</th>\n",
              "      <td>NaN</td>\n",
              "      <td>Услуги по переработке НПГ</td>\n",
              "      <td>NaN</td>\n",
              "      <td>NaN</td>\n",
              "      <td>принятие решения о согласии на совершение или ...</td>\n",
              "    </tr>\n",
              "    <tr>\n",
              "      <th>14</th>\n",
              "      <td>NaN</td>\n",
              "      <td>NaN</td>\n",
              "      <td>NaN</td>\n",
              "      <td>NaN</td>\n",
              "      <td>принятие решения о согласии на совершение или ...</td>\n",
              "    </tr>\n",
              "    <tr>\n",
              "      <th>15</th>\n",
              "      <td>NaN</td>\n",
              "      <td>NaN</td>\n",
              "      <td>NaN</td>\n",
              "      <td>NaN</td>\n",
              "      <td>принятие решения о согласии на совершение или ...</td>\n",
              "    </tr>\n",
              "    <tr>\n",
              "      <th>16</th>\n",
              "      <td>NaN</td>\n",
              "      <td>NaN</td>\n",
              "      <td>NaN</td>\n",
              "      <td>NaN</td>\n",
              "      <td>принятие решения о согласии на совершение или ...</td>\n",
              "    </tr>\n",
              "    <tr>\n",
              "      <th>17</th>\n",
              "      <td>NaN</td>\n",
              "      <td>NaN</td>\n",
              "      <td>NaN</td>\n",
              "      <td>NaN</td>\n",
              "      <td>принятие решения о согласии на совершение или ...</td>\n",
              "    </tr>\n",
              "  </tbody>\n",
              "</table>\n",
              "</div>"
            ],
            "text/plain": [
              "   Тип документа\\n (Договор, \\n Протокол, \\n Устав)  ...                                         Unnamed: 4\n",
              "0                                             Устав  ...                                                NaN\n",
              "1                                             Устав  ...                                                NaN\n",
              "2                                             Устав  ...  принятие решения о согласии на совершение или ...\n",
              "3                                             Устав  ...  принятие решения о согласии на совершение или ...\n",
              "4                                             Устав  ...  принятие решения о согласии на совершение или ...\n",
              "5                                             Устав  ...                                                NaN\n",
              "6                                             Устав  ...                                                NaN\n",
              "7                                             Устав  ...  принятие решения о согласии на совершение или ...\n",
              "8                                             Устав  ...                                                NaN\n",
              "9                                             Устав  ...  принятие решения о согласии на совершение или ...\n",
              "10                                            Устав  ...  принятие решения о согласии на совершение или ...\n",
              "11                                            Устав  ...  принятие решения о согласии на совершение или ...\n",
              "12                                            Устав  ...                                                NaN\n",
              "13                                              NaN  ...  принятие решения о согласии на совершение или ...\n",
              "14                                              NaN  ...  принятие решения о согласии на совершение или ...\n",
              "15                                              NaN  ...  принятие решения о согласии на совершение или ...\n",
              "16                                              NaN  ...  принятие решения о согласии на совершение или ...\n",
              "17                                              NaN  ...  принятие решения о согласии на совершение или ...\n",
              "\n",
              "[18 rows x 5 columns]"
            ]
          },
          "metadata": {
            "tags": []
          },
          "execution_count": 58
        }
      ]
    },
    {
      "cell_type": "code",
      "metadata": {
        "id": "dAB-R5CHP5pQ",
        "colab_type": "code",
        "colab": {}
      },
      "source": [
        ""
      ],
      "execution_count": 0,
      "outputs": []
    },
    {
      "cell_type": "markdown",
      "metadata": {
        "id": "BKEuHrqIP6ET",
        "colab_type": "text"
      },
      "source": [
        "### Sample data"
      ]
    },
    {
      "cell_type": "code",
      "metadata": {
        "id": "eaUa8F5kBWWn",
        "colab_type": "code",
        "colab": {
          "base_uri": "https://localhost:8080/",
          "height": 267
        },
        "outputId": "7b6f4120-bd96-47d1-a605-b2dc56990e9b"
      },
      "source": [
        "sampled = samples.T[2:3].values.flatten()[:12]\n",
        "sampled"
      ],
      "execution_count": 59,
      "outputs": [
        {
          "output_type": "execute_result",
          "data": {
            "text/plain": [
              "array(['принятие решений о совершении сделок (в том числе нескольких взаимосвязанных сделок) на сумму, превышающую 100 000 000 (сто миллионов) рублей без учета НДС (или эквивалент указанной суммы в любой другой валюте),',\n",
              "       'сделок (в том числе нескольких взаимосвязанных сделок) с имуществом Общества, стоимость которого на основании данных бухгалтерской отчетности Общества за последний отчетный период, предшествующий дню принятия решения о совершении таких сделок, превышает 100 000 000 (сто миллионов) рублей без учета НДС (или эквивалент указанной суммы в любой другой валюте), за исключением сделок, совершаемых в процессе обычной хозяйственной деятельности Общества, а также, за исключением сделок с ПАО «Газпром нефть» и обществами, входящими в группу лиц с ним когда такая сделка или несколько взаимосвязанных сделок является(-ются) сделкой, в совершении которой имеется заинтересованность);',\n",
              "       'принятие решений о совершении сделок, связанных с получением или предоставлением Обществом займов, кредитов (в том числе вексельных), предоставлением гарантий и поручительств по обязательствам Общества и(или) третьих лиц, за исключением сделок с ПАО «Газпром нефть» и обществами, входящими в группу лиц с ним;',\n",
              "       'принятие решений о совершении сделок, связанных с продажей, иным отчуждением, в том числе путем сноса и/или частичной или полной реконструкции, осуществляемой по предложению/требованию государственных органов или иных третьих лиц, изъятия для государственных нужд, отказа от собственности (кроме случаев фактической утраты) или обременением недвижимого имущества (за исключением случаев обременения недвижимого имущества, указанных в п.п. 14 п. 10.3. настоящего Устава и сервитутов), или о совершении сделки, связанной с возможностью отчуждения прямо или косвенно недвижимого имущества Общества, за исключением сделок с ПАО «Газпром нефть» и обществами, входящими в группу лиц с ним;',\n",
              "       'принятие решений о совершении сделок, связанных с передачей в аренду/субаренду недвижимого имущества Общества, за исключением помещений и непрофильного имущества признанного таковым в соответствии с решением Совета директоров Общества, а также за исключением сделок с ПАО «Газпром нефть» и обществами, входящими в группу лиц с ним;',\n",
              "       'принятие решений о совершении сделок, связанных с получением в аренду/субаренду недвижимого имущества, за исключением земельных участков, на срок 1 год и более и на неопределенный срок, за исключением сделок, связанных с арендой/субарендой земельных участков/частей земельных участков, а также сделок с ПАО «Газпром нефть» и обществами, входящими в группу лиц с ним',\n",
              "       'принятие решений об отказе от аренды/субаренды земельных участков, за исключением сделок с ПАО «Газпром нефть» и обществами, входящими в группу лиц с ним;',\n",
              "       'принятие решений о совершении сделок, связанных с приобретением или отчуждением долей в уставных капиталах, акций, облигаций, закладных, векселей или иных ценных бумаг или любых прав в отношении такого имущества (путем конвертации, подписки, опционов или иным способом) любой компании или другой организации, за исключением сделок с ПАО «Газпром нефть» и обществами, входящими в группу лиц с ним;',\n",
              "       'принятие решений о совершении сделок, связанных с передачей в залог или установлением иных обременений в отношении принадлежащих Обществу долей в уставных капиталах или акций, за исключением сделок с ПАО «Газпром нефть» и обществами, входящими в группу лиц с ним;',\n",
              "       'принятие решений о совершении сделок мены, дарения, иных сделок, предусматривающих безвозмездное отчуждение имущества Общества либо оплату (встречное предоставление) в неденежной форме, за исключением сделок с ПАО «Газпром нефть» и обществами, входящими в группу лиц с ним;',\n",
              "       'принятие решения о согласии на совершение Обществом сделок, в совершении которых имеется заинтересованность, в случаях, установленных Статьей 12 настоящего Устава Если цена сделки или стоимость имущества, являющегося предметом сделки, превышает 10 процентов балансовой стоимости активов Общества, определенной на основании данных бухгалтерской отчетности за последний отчетный период, совершение такой сделки требует обязательного предварительного согласия Общего собрания Участников Общества.',\n",
              "       'принятие решения о согласии на совершение крупной сделки, связанной с приобретением, отчуждением или возможностью отчуждения Обществом прямо или косвенно имущества, цена или балансовая стоимость которого без учета НДС составляет 50 и более процентов балансовой стоимости активов Общества, определенной по данным его бухгалтерской (финансовой) отчетности на последнюю отчетную дату, либо крупной сделки, предусматривающей обязанность Общества передать имущество во временное владение и (или) пользование либо предоставить третьему лицу право использования результата интеллектуальной деятельности или средства индивидуализации на условиях лицензии, если их балансовая стоимость без учета НДС составляет 25 и более процентов балансовой стоимости активов Общества, определенной по данным его бухгалтерской (финансовой) отчетности на последнюю отчетную дату'],\n",
              "      dtype=object)"
            ]
          },
          "metadata": {
            "tags": []
          },
          "execution_count": 59
        }
      ]
    },
    {
      "cell_type": "code",
      "metadata": {
        "id": "OFxp2rmSI1D4",
        "colab_type": "code",
        "colab": {
          "base_uri": "https://localhost:8080/",
          "height": 141
        },
        "outputId": "a455e066-c924-4a1e-f51f-f364bcd61c79"
      },
      "source": [
        "headlines = samples.T[1:2].values.flatten()[:12]\n",
        "headlines"
      ],
      "execution_count": 60,
      "outputs": [
        {
          "output_type": "execute_result",
          "data": {
            "text/plain": [
              "array(['Сделки', 'Сделки с имуществом', 'Сделки с займами/кредитами',\n",
              "       'Продажа и отчуждение недвижимого имущества', 'Передача в аренду',\n",
              "       'Получение в аренду недвижимого имущества',\n",
              "       'Отказ от аренды земельных участков', 'Сделки с ценными бумагами',\n",
              "       'Сделки передачи в залог уставных капиталов и акций',\n",
              "       'Благотворительность', 'Сделки с заинтересованностью',\n",
              "       'Крупная сделка'], dtype=object)"
            ]
          },
          "metadata": {
            "tags": []
          },
          "execution_count": 60
        }
      ]
    },
    {
      "cell_type": "markdown",
      "metadata": {
        "id": "tYb2QMPZdruq",
        "colab_type": "text"
      },
      "source": [
        "### Explore sentences, \n",
        "length, tokens, etc"
      ]
    },
    {
      "cell_type": "code",
      "metadata": {
        "id": "71quEr3nCx6X",
        "colab_type": "code",
        "colab": {}
      },
      "source": [
        "embeddings = elmo_embedder_default.embedd_strings(sampled)\n",
        "K=embeddings.shape[0]"
      ],
      "execution_count": 0,
      "outputs": []
    },
    {
      "cell_type": "markdown",
      "metadata": {
        "id": "jW7qeF4ZJfih",
        "colab_type": "text"
      },
      "source": [
        "## Collisions\n",
        "ограничения уставов, которые слишком близки по эмбеддингу"
      ]
    },
    {
      "cell_type": "markdown",
      "metadata": {
        "id": "yjLjgW-4RHIc",
        "colab_type": "text"
      },
      "source": [
        "### making distance matrix"
      ]
    },
    {
      "cell_type": "code",
      "metadata": {
        "id": "feG4osj9DTZx",
        "colab_type": "code",
        "colab": {}
      },
      "source": [
        "import scipy.spatial.distance as distance\n",
        "min_d=1\n",
        "min_ab=(0,0)\n",
        "mtx = np.zeros(shape=(K,K)) \n",
        "collisions = []\n",
        "\n",
        "for x, e1 in enumerate(embeddings):\n",
        "  for y, e2 in enumerate(embeddings):\n",
        "    if x!=y:\n",
        "      d = distance.cosine(e1,e2)\n",
        "      mtx[x,y] = d  \n"
      ],
      "execution_count": 0,
      "outputs": []
    },
    {
      "cell_type": "code",
      "metadata": {
        "id": "gtBSabbGROsY",
        "colab_type": "code",
        "colab": {
          "base_uri": "https://localhost:8080/",
          "height": 574
        },
        "outputId": "c5d76f70-0feb-4485-d644-f343c622bf73"
      },
      "source": [
        "\n",
        "median = np.median(mtx)\n",
        "threshold = median/2\n",
        "\n",
        "print('-'*100)\n",
        "# print(f'max distance is { max(mtx) }')\n",
        "print(f'mean distance is {np.mean(mtx)}')\n",
        "print(f'median distance is {median}')\n",
        "print(f'so threshold is estimated to be {threshold}  (=median/2)')\n",
        "for x, e1 in enumerate(embeddings):\n",
        "  for y, e2 in enumerate(embeddings):\n",
        "    if x!=y:\n",
        "      if mtx[x,y] < threshold:\n",
        "        collision = ( min([x, y]), max([x, y]) )\n",
        "        if collision not in collisions:\n",
        "          collisions.append(collision)\n",
        "        \n",
        "\n",
        "print('-'*100)\n",
        "print('collisions'.upper())\n",
        "for c in collisions:\n",
        "  d = mtx[c[0], c[1]]\n",
        "  print(f'Semantic distance is {d:1.2f} between [{headlines[c[0]]}] and [{headlines[c[1]]}]')\n",
        "  print(f' [{sampled[c[0]]}] \\n [{sampled[c[1]]}]')\n",
        "  print('-'*10)\n",
        "\n",
        "\n",
        "plt.figure('similarity', figsize=(6,6))\n",
        "plot_similarity( 1.0 - relu(mtx, threshold), 0)"
      ],
      "execution_count": 85,
      "outputs": [
        {
          "output_type": "stream",
          "text": [
            "----------------------------------------------------------------------------------------------------\n",
            "mean distance is 0.15260523557662964\n",
            "median distance is 0.1362227499485016\n",
            "so threshold is estimated to be 0.0681113749742508  (=median/2)\n",
            "----------------------------------------------------------------------------------------------------\n",
            "COLLISIONS\n",
            "Semantic distance is 0.06 between [Сделки с ценными бумагами] and [Сделки передачи в залог уставных капиталов и акций]\n",
            " [принятие решений о совершении сделок, связанных с приобретением или отчуждением долей в уставных капиталах, акций, облигаций, закладных, векселей или иных ценных бумаг или любых прав в отношении такого имущества (путем конвертации, подписки, опционов или иным способом) любой компании или другой организации, за исключением сделок с ПАО «Газпром нефть» и обществами, входящими в группу лиц с ним;] \n",
            " [принятие решений о совершении сделок, связанных с передачей в залог или установлением иных обременений в отношении принадлежащих Обществу долей в уставных капиталах или акций, за исключением сделок с ПАО «Газпром нефть» и обществами, входящими в группу лиц с ним;]\n",
            "----------\n"
          ],
          "name": "stdout"
        },
        {
          "output_type": "display_data",
          "data": {
            "image/png": "[encoded data removed]",
            "text/plain": [
              "<Figure size 432x432 with 2 Axes>"
            ]
          },
          "metadata": {
            "tags": []
          }
        }
      ]
    },
    {
      "cell_type": "markdown",
      "metadata": {
        "id": "yw89HVOJNxyC",
        "colab_type": "text"
      },
      "source": [
        "# Split long sample sentences"
      ]
    },
    {
      "cell_type": "code",
      "metadata": {
        "id": "Vcmg5L9rdzlC",
        "colab_type": "code",
        "outputId": "f3de97c3-4253-4155-d7cd-f3413c81239f",
        "colab": {
          "base_uri": "https://localhost:8080/",
          "height": 1000
        }
      },
      "source": [
        "from analyser.legal_docs import tokenize_doc_into_sentences_map\n",
        "\n",
        "for k, s in enumerate(sampled):\n",
        "  print()\n",
        "  print()\n",
        "  print(f'🤖 {k}. {headlines[k].upper()}')\n",
        "  sentences = tokenize_doc_into_sentences_map(LegalDocument(s).parse(), HyperParameters.charter_sentence_max_len)\n",
        "  print(f'\\t{len(sentences)} {HyperParameters.charter_sentence_max_len}-long-segements' )\n",
        "  for i in range(len(sentences)):\n",
        "    print (f'\\t\\t{len(sentences[i])}\\t👾',sentences[i])\n"
      ],
      "execution_count": 116,
      "outputs": [
        {
          "output_type": "stream",
          "text": [
            "\n",
            "\n",
            "🤖 0. СДЕЛКИ\n",
            "\t2 200-long-segements\n",
            "\t\t94\t👾 принятие решений о совершении сделок (в том числе нескольких взаимосвязанных сделок) на сумму,\n",
            "\t\t115\t👾  превышающую 100000000 (сто миллионов) рублей без учета НДС (или эквивалент указанной суммы в любой другой валюте),\n",
            "\n",
            "\n",
            "🤖 1. СДЕЛКИ С ИМУЩЕСТВОМ\n",
            "\t4 200-long-segements\n",
            "\t\t180\t👾 сделок (в том числе нескольких взаимосвязанных сделок) с имуществом Общества, стоимость которого на основании данных бухгалтерской отчетности Общества за последний отчетный период,\n",
            "\t\t199\t👾  предшествующий дню принятия решения о совершении таких сделок, превышает 100000000 (сто миллионов) рублей без учета НДС (или эквивалент указанной суммы в любой другой валюте), за исключением сделок,\n",
            "\t\t135\t👾  совершаемых в процессе обычной хозяйственной деятельности Общества, а также, за исключением сделок с ПАО «Газпром нефть» и обществами,\n",
            "\t\t160\t👾  входящими в группу лиц с ним когда такая сделка или несколько взаимосвязанных сделок является(-ются) сделкой, в совершении которой имеется заинтересованность);\n",
            "\n",
            "\n",
            "🤖 2. СДЕЛКИ С ЗАЙМАМИ/КРЕДИТАМИ\n",
            "\t2 200-long-segements\n",
            "\t\t133\t👾 принятие решений о совершении сделок, связанных с получением или предоставлением Обществом займов, кредитов (в том числе вексельных),\n",
            "\t\t176\t👾  предоставлением гарантий и поручительств по обязательствам Общества и(или) третьих лиц, за исключением сделок с ПАО «Газпром нефть» и обществами, входящими в группу лиц с ним;\n",
            "\n",
            "\n",
            "🤖 3. ПРОДАЖА И ОТЧУЖДЕНИЕ НЕДВИЖИМОГО ИМУЩЕСТВА\n",
            "\t5 200-long-segements\n",
            "\t\t143\t👾 принятие решений о совершении сделок, связанных с продажей, иным отчуждением, в том числе путем сноса и/или частичной или полной реконструкции,\n",
            "\t\t121\t👾  осуществляемой по предложению/требованию государственных органов или иных третьих лиц, изъятия для государственных нужд,\n",
            "\t\t190\t👾  отказа от собственности (кроме случаев фактической утраты) или обременением недвижимого имущества (за исключением случаев обременения недвижимого имущества, указанных в п. п. 14 пункт 10.3.\n",
            "\t\t145\t👾  настоящего Устава и сервитутов), или о совершении сделки, связанной с возможностью отчуждения прямо или косвенно недвижимого имущества Общества,\n",
            "\t\t88\t👾  за исключением сделок с ПАО «Газпром нефть» и обществами, входящими в группу лиц с ним;\n",
            "\n",
            "\n",
            "🤖 4. ПЕРЕДАЧА В АРЕНДУ\n",
            "\t3 200-long-segements\n",
            "\t\t110\t👾 принятие решений о совершении сделок, связанных с передачей в аренду/субаренду недвижимого имущества Общества,\n",
            "\t\t191\t👾  за исключением помещений и непрофильного имущества признанного таковым в соответствии с решением Совета директоров Общества, а также за исключением сделок с ПАО «Газпром нефть» и обществами,\n",
            "\t\t30\t👾  входящими в группу лиц с ним;\n",
            "\n",
            "\n",
            "🤖 5. ПОЛУЧЕНИЕ В АРЕНДУ НЕДВИЖИМОГО ИМУЩЕСТВА\n",
            "\t2 200-long-segements\n",
            "\t\t185\t👾 принятие решений о совершении сделок, связанных с получением в аренду/субаренду недвижимого имущества, за исключением земельных участков, на срок 1 год и более и на неопределенный срок,\n",
            "\t\t180\t👾  за исключением сделок, связанных с арендой/субарендой земельных участков/частей земельных участков, а также сделок с ПАО «Газпром нефть» и обществами, входящими в группу лиц с ним\n",
            "\n",
            "\n",
            "🤖 6. ОТКАЗ ОТ АРЕНДЫ ЗЕМЕЛЬНЫХ УЧАСТКОВ\n",
            "\t1 200-long-segements\n",
            "\t\t154\t👾 принятие решений об отказе от аренды/субаренды земельных участков, за исключением сделок с ПАО «Газпром нефть» и обществами, входящими в группу лиц с ним;\n",
            "\n",
            "\n",
            "🤖 7. СДЕЛКИ С ЦЕННЫМИ БУМАГАМИ\n",
            "\t3 200-long-segements\n",
            "\t\t136\t👾 принятие решений о совершении сделок, связанных с приобретением или отчуждением долей в уставных капиталах, акций, облигаций, закладных,\n",
            "\t\t172\t👾  векселей или иных ценных бумаг или любых прав в отношении такого имущества (путем конвертации, подписки, опционов или иным способом) любой компании или другой организации,\n",
            "\t\t88\t👾  за исключением сделок с ПАО «Газпром нефть» и обществами, входящими в группу лиц с ним;\n",
            "\n",
            "\n",
            "🤖 8. СДЕЛКИ ПЕРЕДАЧИ В ЗАЛОГ УСТАВНЫХ КАПИТАЛОВ И АКЦИЙ\n",
            "\t2 200-long-segements\n",
            "\t\t175\t👾 принятие решений о совершении сделок, связанных с передачей в залог или установлением иных обременений в отношении принадлежащих Обществу долей в уставных капиталах или акций,\n",
            "\t\t88\t👾  за исключением сделок с ПАО «Газпром нефть» и обществами, входящими в группу лиц с ним;\n",
            "\n",
            "\n",
            "🤖 9. БЛАГОТВОРИТЕЛЬНОСТЬ\n",
            "\t2 200-long-segements\n",
            "\t\t185\t👾 принятие решений о совершении сделок мены, дарения, иных сделок, предусматривающих безвозмездное отчуждение имущества Общества либо оплату (встречное предоставление) в неденежной форме,\n",
            "\t\t88\t👾  за исключением сделок с ПАО «Газпром нефть» и обществами, входящими в группу лиц с ним;\n",
            "\n",
            "\n",
            "🤖 10. СДЕЛКИ С ЗАИНТЕРЕСОВАННОСТЬЮ\n",
            "\t3 200-long-segements\n",
            "\t\t119\t👾 принятие решения о согласии на совершение Обществом сделок, в совершении которых имеется заинтересованность, в случаях,\n",
            "\t\t177\t👾  установленных Статьей 12 настоящего Устава Если цена сделки или стоимость имущества, являющегося предметом сделки, превышает 10 процентов балансовой стоимости активов Общества,\n",
            "\t\t197\t👾  определенной на основании данных бухгалтерской отчетности за последний отчетный период, совершение такой сделки требует обязательного предварительного согласия Общего собрания Участников Общества.\n",
            "\n",
            "\n",
            "🤖 11. КРУПНАЯ СДЕЛКА\n",
            "\t7 200-long-segements\n",
            "\t\t164\t👾 принятие решения о согласии на совершение крупной сделки, связанной с приобретением, отчуждением или возможностью отчуждения Обществом прямо или косвенно имущества,\n",
            "\t\t124\t👾  цена или балансовая стоимость которого без учета НДС составляет 50 и более процентов балансовой стоимости активов Общества,\n",
            "\t\t114\t👾  определенной по данным его бухгалтерской (финансовой) отчетности на последнюю отчетную дату, либо крупной сделки,\n",
            "\t\t88\t👾  предусматривающей обязанность Общества передать имущество во временное владение и (или)\n",
            "\t\t157\t👾  пользование либо предоставить третьему лицу право использования результата интеллектуальной деятельности или средства индивидуализации на условиях лицензии,\n",
            "\t\t114\t👾  если их балансовая стоимость без учета НДС составляет 25 и более процентов балансовой стоимости активов Общества,\n",
            "\t\t92\t👾  определенной по данным его бухгалтерской (финансовой) отчетности на последнюю отчетную дату\n"
          ],
          "name": "stdout"
        }
      ]
    },
    {
      "cell_type": "code",
      "metadata": {
        "id": "_7fM0_Lh70sw",
        "colab_type": "code",
        "outputId": "69e79c3b-3682-4dee-b8c7-b51677c3404e",
        "colab": {
          "base_uri": "https://localhost:8080/",
          "height": 481
        }
      },
      "source": [
        "def cut_long_sentences(sentences:[str], max_len=HyperParameters.charter_sentence_max_len):\n",
        "  spans=[]\n",
        "  sents=[]\n",
        "  for k, s in enumerate(sentences):\n",
        "    smalls = tokenize_doc_into_sentences_map(LegalDocument(s).parse(), max_len)    \n",
        "    spans.append ( slice(len(sents),  len(sents)+len(smalls)))\n",
        "    sents += smalls\n",
        "  return sents, spans\n",
        "\n",
        " \n",
        "\n",
        "sents, spans = cut_long_sentences(sampled)\n",
        "for i,s in enumerate(spans):\n",
        "  print()\n",
        "  print (sents[s])\n",
        "\n",
        "pieces_embs = elmo_embedder_default.embedd_strings(sents)\n",
        "pieces_embs.shape"
      ],
      "execution_count": 66,
      "outputs": [
        {
          "output_type": "stream",
          "text": [
            "\n",
            "['принятие решений о совершении сделок (в том числе нескольких взаимосвязанных сделок) на сумму,', ' превышающую 100000000 (сто миллионов) рублей без учета НДС (или эквивалент указанной суммы в любой другой валюте),']\n",
            "\n",
            "['сделок (в том числе нескольких взаимосвязанных сделок) с имуществом Общества, стоимость которого на основании данных бухгалтерской отчетности Общества за последний отчетный период,', ' предшествующий дню принятия решения о совершении таких сделок, превышает 100000000 (сто миллионов) рублей без учета НДС (или эквивалент указанной суммы в любой другой валюте), за исключением сделок,', ' совершаемых в процессе обычной хозяйственной деятельности Общества, а также, за исключением сделок с ПАО «Газпром нефть» и обществами,', ' входящими в группу лиц с ним когда такая сделка или несколько взаимосвязанных сделок является(-ются) сделкой, в совершении которой имеется заинтересованность);']\n",
            "\n",
            "['принятие решений о совершении сделок, связанных с получением или предоставлением Обществом займов, кредитов (в том числе вексельных),', ' предоставлением гарантий и поручительств по обязательствам Общества и(или) третьих лиц, за исключением сделок с ПАО «Газпром нефть» и обществами, входящими в группу лиц с ним;']\n",
            "\n",
            "['принятие решений о совершении сделок, связанных с продажей, иным отчуждением, в том числе путем сноса и/или частичной или полной реконструкции,', ' осуществляемой по предложению/требованию государственных органов или иных третьих лиц, изъятия для государственных нужд,', ' отказа от собственности (кроме случаев фактической утраты) или обременением недвижимого имущества (за исключением случаев обременения недвижимого имущества, указанных в п. п. 14 пункт 10.3.', ' настоящего Устава и сервитутов), или о совершении сделки, связанной с возможностью отчуждения прямо или косвенно недвижимого имущества Общества,', ' за исключением сделок с ПАО «Газпром нефть» и обществами, входящими в группу лиц с ним;']\n",
            "\n",
            "['принятие решений о совершении сделок, связанных с передачей в аренду/субаренду недвижимого имущества Общества,', ' за исключением помещений и непрофильного имущества признанного таковым в соответствии с решением Совета директоров Общества, а также за исключением сделок с ПАО «Газпром нефть» и обществами,', ' входящими в группу лиц с ним;']\n",
            "\n",
            "['принятие решений о совершении сделок, связанных с получением в аренду/субаренду недвижимого имущества, за исключением земельных участков, на срок 1 год и более и на неопределенный срок,', ' за исключением сделок, связанных с арендой/субарендой земельных участков/частей земельных участков, а также сделок с ПАО «Газпром нефть» и обществами, входящими в группу лиц с ним']\n",
            "\n",
            "['принятие решений об отказе от аренды/субаренды земельных участков, за исключением сделок с ПАО «Газпром нефть» и обществами, входящими в группу лиц с ним;']\n",
            "\n",
            "['принятие решений о совершении сделок, связанных с приобретением или отчуждением долей в уставных капиталах, акций, облигаций, закладных,', ' векселей или иных ценных бумаг или любых прав в отношении такого имущества (путем конвертации, подписки, опционов или иным способом) любой компании или другой организации,', ' за исключением сделок с ПАО «Газпром нефть» и обществами, входящими в группу лиц с ним;']\n",
            "\n",
            "['принятие решений о совершении сделок, связанных с передачей в залог или установлением иных обременений в отношении принадлежащих Обществу долей в уставных капиталах или акций,', ' за исключением сделок с ПАО «Газпром нефть» и обществами, входящими в группу лиц с ним;']\n",
            "\n",
            "['принятие решений о совершении сделок мены, дарения, иных сделок, предусматривающих безвозмездное отчуждение имущества Общества либо оплату (встречное предоставление) в неденежной форме,', ' за исключением сделок с ПАО «Газпром нефть» и обществами, входящими в группу лиц с ним;']\n",
            "\n",
            "['принятие решения о согласии на совершение Обществом сделок, в совершении которых имеется заинтересованность, в случаях,', ' установленных Статьей 12 настоящего Устава Если цена сделки или стоимость имущества, являющегося предметом сделки, превышает 10 процентов балансовой стоимости активов Общества,', ' определенной на основании данных бухгалтерской отчетности за последний отчетный период, совершение такой сделки требует обязательного предварительного согласия Общего собрания Участников Общества.']\n",
            "\n",
            "['принятие решения о согласии на совершение крупной сделки, связанной с приобретением, отчуждением или возможностью отчуждения Обществом прямо или косвенно имущества,', ' цена или балансовая стоимость которого без учета НДС составляет 50 и более процентов балансовой стоимости активов Общества,', ' определенной по данным его бухгалтерской (финансовой) отчетности на последнюю отчетную дату, либо крупной сделки,', ' предусматривающей обязанность Общества передать имущество во временное владение и (или)', ' пользование либо предоставить третьему лицу право использования результата интеллектуальной деятельности или средства индивидуализации на условиях лицензии,', ' если их балансовая стоимость без учета НДС составляет 25 и более процентов балансовой стоимости активов Общества,', ' определенной по данным его бухгалтерской (финансовой) отчетности на последнюю отчетную дату']\n"
          ],
          "name": "stdout"
        },
        {
          "output_type": "execute_result",
          "data": {
            "text/plain": [
              "(36, 1024)"
            ]
          },
          "metadata": {
            "tags": []
          },
          "execution_count": 66
        }
      ]
    },
    {
      "cell_type": "code",
      "metadata": {
        "id": "3GTfC8AuNWrf",
        "colab_type": "code",
        "colab": {
          "base_uri": "https://localhost:8080/",
          "height": 247
        },
        "outputId": "799e757c-1875-4201-d3ca-803944149747"
      },
      "source": [
        "headline_to_emb = {}\n",
        "for i,s in enumerate(spans):\n",
        "  e = pieces_embs[s]\n",
        "  headline_to_emb[ headlines[i] ] = e\n",
        "\n",
        "print('shapes of the patterns')\n",
        "for h in headline_to_emb:\n",
        "  print( headline_to_emb[h].shape, h)"
      ],
      "execution_count": 67,
      "outputs": [
        {
          "output_type": "stream",
          "text": [
            "shapes of the patterns\n",
            "(2, 1024) Сделки\n",
            "(4, 1024) Сделки с имуществом\n",
            "(2, 1024) Сделки с займами/кредитами\n",
            "(5, 1024) Продажа и отчуждение недвижимого имущества\n",
            "(3, 1024) Передача в аренду\n",
            "(2, 1024) Получение в аренду недвижимого имущества\n",
            "(1, 1024) Отказ от аренды земельных участков\n",
            "(3, 1024) Сделки с ценными бумагами\n",
            "(2, 1024) Сделки передачи в залог уставных капиталов и акций\n",
            "(2, 1024) Благотворительность\n",
            "(3, 1024) Сделки с заинтересованностью\n",
            "(7, 1024) Крупная сделка\n"
          ],
          "name": "stdout"
        }
      ]
    },
    {
      "cell_type": "markdown",
      "metadata": {
        "id": "QmGM085LOqMJ",
        "colab_type": "text"
      },
      "source": [
        "## Searching patterns in a fake syntetic charter"
      ]
    },
    {
      "cell_type": "code",
      "metadata": {
        "id": "KFKSM1UgN8eb",
        "colab_type": "code",
        "colab": {}
      },
      "source": [
        "from analyser.charter_parser import CharterDocument\n",
        "fake_contract_text='\\n'.join(sampled)\n",
        "fake_contract = CharterDocument(LegalDocument(fake_contract_text)).parse()\n",
        "# fake_contract.sentence_map.tokens"
      ],
      "execution_count": 0,
      "outputs": []
    },
    {
      "cell_type": "code",
      "metadata": {
        "id": "IqZswsVFQmqC",
        "colab_type": "code",
        "colab": {
          "base_uri": "https://localhost:8080/",
          "height": 34
        },
        "outputId": "738abced-f5b5-476a-bf13-dab9de489d68"
      },
      "source": [
        "# distance.cosine(u.mean(0), v.mean(0))\n",
        "_first_key = list(headline_to_emb.keys())[0]\n",
        "_first_emb = headline_to_emb[_first_key][0]\n",
        "_first_emb.shape"
      ],
      "execution_count": 69,
      "outputs": [
        {
          "output_type": "execute_result",
          "data": {
            "text/plain": [
              "(1024,)"
            ]
          },
          "metadata": {
            "tags": []
          },
          "execution_count": 69
        }
      ]
    },
    {
      "cell_type": "code",
      "metadata": {
        "id": "8l47lvHjRfzL",
        "colab_type": "code",
        "colab": {}
      },
      "source": [
        "from analyser.legal_docs import embedd_sentences\n",
        "fake_contract.sentences_embeddings = embedd_sentences(fake_contract.sentence_map, elmo_embedder_default)"
      ],
      "execution_count": 0,
      "outputs": []
    },
    {
      "cell_type": "code",
      "metadata": {
        "id": "EWoNHYZqRG2Z",
        "colab_type": "code",
        "colab": {
          "base_uri": "https://localhost:8080/",
          "height": 616
        },
        "outputId": "1d0a277b-ce12-4799-b4f1-e9650404bae8"
      },
      "source": [
        " \n",
        "def attention_vector(pattern_emb, text_emb):\n",
        "  return np.array ([ 1.0-distance.cosine(e, pattern_emb) for e in  text_emb])\n",
        "\n",
        "def multi_attention_vector (patterns_emb, text_emb):\n",
        "  vectors=[]\n",
        "  for pattern_emb in patterns_emb:\n",
        "    av = attention_vector(pattern_emb, text_emb)\n",
        "    vectors.append(av)\n",
        "\n",
        "  return max_exclusive_pattern(vectors)\n",
        "\n",
        "def best_window(attention_vector, wnd_len):\n",
        "  max_sum=0\n",
        "  best_index=0\n",
        "  for k in range(len(attention_vector)-wnd_len+1):\n",
        "    wnd = attention_vector[k:k+wnd_len]\n",
        "    _sum=sum(wnd)\n",
        "    if _sum > max_sum:\n",
        "      max_sum=_sum\n",
        "      best_index=k\n",
        "  return best_index, max_sum, max_sum/wnd_len\n",
        "\n",
        "  \n",
        "##-----------TEST\n",
        "av = attention_vector(_first_emb, fake_contract.sentences_embeddings)\n",
        "renderer_.render_color_text(fake_contract.sentence_map.tokens,  av, separator='<br>', _range=(0,1))"
      ],
      "execution_count": 104,
      "outputs": [
        {
          "output_type": "display_data",
          "data": {
            "text/html": [
              "<span title=\"0 1.0000\" style=\"background-color:#b40426\">принятие решений о совершении сделок (в том числе нескольких взаимосвязанных сделок) на сумму,<br></span><span title=\"1 0.5555\" style=\"background-color:#f7aa8c\"> превышающую 100000000 (сто миллионов) рублей без учета НДС (или эквивалент указанной суммы в любой другой валюте),\n",
              "<br></span><span title=\"2 0.7138\" style=\"background-color:#ec7f63\">сделок (в том числе нескольких взаимосвязанных сделок) с имуществом Общества, стоимость которого на основании данных бухгалтерской отчетности Общества за последний отчетный период,<br></span><span title=\"3 0.6953\" style=\"background-color:#ee8669\"> предшествующий дню принятия решения о совершении таких сделок, превышает 100000000 (сто миллионов) рублей без учета НДС (или эквивалент указанной суммы в любой другой валюте), за исключением сделок,<br></span><span title=\"4 0.6099\" style=\"background-color:#f59d7e\"> совершаемых в процессе обычной хозяйственной деятельности Общества, а также, за исключением сделок с ПАО «Газпром нефть» и обществами,<br></span><span title=\"5 0.7381\" style=\"background-color:#e9785d\"> входящими в группу лиц с ним когда такая сделка или несколько взаимосвязанных сделок является(-ются) сделкой, в совершении которой имеется заинтересованность);\n",
              "<br></span><span title=\"6 0.7821\" style=\"background-color:#e36b54\">принятие решений о совершении сделок, связанных с получением или предоставлением Обществом займов, кредитов (в том числе вексельных),<br></span><span title=\"7 0.6563\" style=\"background-color:#f29072\"> предоставлением гарантий и поручительств по обязательствам Общества и(или) третьих лиц, за исключением сделок с ПАО «Газпром нефть» и обществами, входящими в группу лиц с ним;\n",
              "<br></span><span title=\"8 0.7173\" style=\"background-color:#ec7f63\">принятие решений о совершении сделок, связанных с продажей, иным отчуждением, в том числе путем сноса и/или частичной или полной реконструкции,<br></span><span title=\"9 0.5530\" style=\"background-color:#f7ac8e\"> осуществляемой по предложению/требованию государственных органов или иных третьих лиц, изъятия для государственных нужд,<br></span><span title=\"10 0.6099\" style=\"background-color:#f59d7e\"> отказа от собственности (кроме случаев фактической утраты) или обременением недвижимого имущества (за исключением случаев обременения недвижимого имущества, указанных в п. п. 14 пункт 10.3.<br></span><span title=\"11 0.5986\" style=\"background-color:#f5a081\"> настоящего Устава и сервитутов), или о совершении сделки, связанной с возможностью отчуждения прямо или косвенно недвижимого имущества Общества,<br></span><span title=\"12 0.5753\" style=\"background-color:#f7a688\"> за исключением сделок с ПАО «Газпром нефть» и обществами, входящими в группу лиц с ним;\n",
              "<br></span><span title=\"13 0.7111\" style=\"background-color:#ec8165\">принятие решений о совершении сделок, связанных с передачей в аренду/субаренду недвижимого имущества Общества,<br></span><span title=\"14 0.5552\" style=\"background-color:#f7aa8c\"> за исключением помещений и непрофильного имущества признанного таковым в соответствии с решением Совета директоров Общества, а также за исключением сделок с ПАО «Газпром нефть» и обществами,<br></span><span title=\"15 0.4820\" style=\"background-color:#f7bca1\"> входящими в группу лиц с ним;\n",
              "<br></span><span title=\"16 0.6870\" style=\"background-color:#ef886b\">принятие решений о совершении сделок, связанных с получением в аренду/субаренду недвижимого имущества, за исключением земельных участков, на срок 1 год и более и на неопределенный срок,<br></span><span title=\"17 0.6197\" style=\"background-color:#f49a7b\"> за исключением сделок, связанных с арендой/субарендой земельных участков/частей земельных участков, а также сделок с ПАО «Газпром нефть» и обществами, входящими в группу лиц с ним\n",
              "<br></span><span title=\"18 0.6935\" style=\"background-color:#ee8669\">принятие решений об отказе от аренды/субаренды земельных участков, за исключением сделок с ПАО «Газпром нефть» и обществами, входящими в группу лиц с ним;\n",
              "<br></span><span title=\"19 0.7260\" style=\"background-color:#ea7b60\">принятие решений о совершении сделок, связанных с приобретением или отчуждением долей в уставных капиталах, акций, облигаций, закладных,<br></span><span title=\"20 0.6326\" style=\"background-color:#f39778\"> векселей или иных ценных бумаг или любых прав в отношении такого имущества (путем конвертации, подписки, опционов или иным способом) любой компании или другой организации,<br></span><span title=\"21 0.5753\" style=\"background-color:#f7a688\"> за исключением сделок с ПАО «Газпром нефть» и обществами, входящими в группу лиц с ним;\n",
              "<br></span><span title=\"22 0.6871\" style=\"background-color:#ef886b\">принятие решений о совершении сделок, связанных с передачей в залог или установлением иных обременений в отношении принадлежащих Обществу долей в уставных капиталах или акций,<br></span><span title=\"23 0.5753\" style=\"background-color:#f7a688\"> за исключением сделок с ПАО «Газпром нефть» и обществами, входящими в группу лиц с ним;\n",
              "<br></span><span title=\"24 0.7713\" style=\"background-color:#e46e56\">принятие решений о совершении сделок мены, дарения, иных сделок, предусматривающих безвозмездное отчуждение имущества Общества либо оплату (встречное предоставление) в неденежной форме,<br></span><span title=\"25 0.5753\" style=\"background-color:#f7a688\"> за исключением сделок с ПАО «Газпром нефть» и обществами, входящими в группу лиц с ним;\n",
              "<br></span><span title=\"26 0.7410\" style=\"background-color:#e9785d\">принятие решения о согласии на совершение Обществом сделок, в совершении которых имеется заинтересованность, в случаях,<br></span><span title=\"27 0.5537\" style=\"background-color:#f7ac8e\"> установленных Статьей 12 настоящего Устава Если цена сделки или стоимость имущества, являющегося предметом сделки, превышает 10 процентов балансовой стоимости активов Общества,<br></span><span title=\"28 0.5828\" style=\"background-color:#f6a586\"> определенной на основании данных бухгалтерской отчетности за последний отчетный период, совершение такой сделки требует обязательного предварительного согласия Общего собрания Участников Общества.\n",
              "<br></span><span title=\"29 0.6584\" style=\"background-color:#f29072\">принятие решения о согласии на совершение крупной сделки, связанной с приобретением, отчуждением или возможностью отчуждения Обществом прямо или косвенно имущества,<br></span><span title=\"30 0.4931\" style=\"background-color:#f7b99e\"> цена или балансовая стоимость которого без учета НДС составляет 50 и более процентов балансовой стоимости активов Общества,<br></span><span title=\"31 0.5394\" style=\"background-color:#f7af91\"> определенной по данным его бухгалтерской (финансовой) отчетности на последнюю отчетную дату, либо крупной сделки,<br></span><span title=\"32 0.5187\" style=\"background-color:#f7b497\"> предусматривающей обязанность Общества передать имущество во временное владение и (или)<br></span><span title=\"33 0.4914\" style=\"background-color:#f7b99e\"> пользование либо предоставить третьему лицу право использования результата интеллектуальной деятельности или средства индивидуализации на условиях лицензии,<br></span><span title=\"34 0.4793\" style=\"background-color:#f7bca1\"> если их балансовая стоимость без учета НДС составляет 25 и более процентов балансовой стоимости активов Общества,<br></span><span title=\"35 0.4773\" style=\"background-color:#f6bda2\"> определенной по данным его бухгалтерской (финансовой) отчетности на последнюю отчетную дату<br></span>"
            ],
            "text/plain": [
              "<IPython.core.display.HTML object>"
            ]
          },
          "metadata": {
            "tags": []
          }
        }
      ]
    },
    {
      "cell_type": "code",
      "metadata": {
        "id": "2rpHMeq5XzrI",
        "colab_type": "code",
        "colab": {
          "base_uri": "https://localhost:8080/",
          "height": 634
        },
        "outputId": "8b592e59-093b-4ff4-b6b2-e1ad38bf3c7b"
      },
      "source": [
        "\n",
        "##-----------TEST\n",
        "_sample_key='Продажа и отчуждение недвижимого имущества'\n",
        "print(_sample_key, len(headline_to_emb[_sample_key]))\n",
        "avs = multi_attention_vector (headline_to_emb[_sample_key], fake_contract.sentences_embeddings)\n",
        "renderer_.render_color_text(fake_contract.sentence_map.tokens,  avs, separator='<br>', _range=(0,1))"
      ],
      "execution_count": 98,
      "outputs": [
        {
          "output_type": "stream",
          "text": [
            "Продажа и отчуждение недвижимого имущества 5\n"
          ],
          "name": "stdout"
        },
        {
          "output_type": "display_data",
          "data": {
            "text/html": [
              "<span title=\"0 0.7173\" style=\"background-color:#ec7f63\">принятие решений о совершении сделок (в том числе нескольких взаимосвязанных сделок) на сумму,<br></span><span title=\"1 0.5601\" style=\"background-color:#f7aa8c\"> превышающую 100000000 (сто миллионов) рублей без учета НДС (или эквивалент указанной суммы в любой другой валюте),\n",
              "<br></span><span title=\"2 0.6587\" style=\"background-color:#f29072\">сделок (в том числе нескольких взаимосвязанных сделок) с имуществом Общества, стоимость которого на основании данных бухгалтерской отчетности Общества за последний отчетный период,<br></span><span title=\"3 0.6938\" style=\"background-color:#ee8669\"> предшествующий дню принятия решения о совершении таких сделок, превышает 100000000 (сто миллионов) рублей без учета НДС (или эквивалент указанной суммы в любой другой валюте), за исключением сделок,<br></span><span title=\"4 0.7484\" style=\"background-color:#e7745b\"> совершаемых в процессе обычной хозяйственной деятельности Общества, а также, за исключением сделок с ПАО «Газпром нефть» и обществами,<br></span><span title=\"5 0.6830\" style=\"background-color:#f08a6c\"> входящими в группу лиц с ним когда такая сделка или несколько взаимосвязанных сделок является(-ются) сделкой, в совершении которой имеется заинтересованность);\n",
              "<br></span><span title=\"6 0.7805\" style=\"background-color:#e36b54\">принятие решений о совершении сделок, связанных с получением или предоставлением Обществом займов, кредитов (в том числе вексельных),<br></span><span title=\"7 0.8710\" style=\"background-color:#d24b40\"> предоставлением гарантий и поручительств по обязательствам Общества и(или) третьих лиц, за исключением сделок с ПАО «Газпром нефть» и обществами, входящими в группу лиц с ним;\n",
              "<br></span><span title=\"8 1.0000\" style=\"background-color:#b40426\">принятие решений о совершении сделок, связанных с продажей, иным отчуждением, в том числе путем сноса и/или частичной или полной реконструкции,<br></span><span title=\"9 0.9990\" style=\"background-color:#b40426\"> осуществляемой по предложению/требованию государственных органов или иных третьих лиц, изъятия для государственных нужд,<br></span><span title=\"10 0.9995\" style=\"background-color:#b40426\"> отказа от собственности (кроме случаев фактической утраты) или обременением недвижимого имущества (за исключением случаев обременения недвижимого имущества, указанных в п. п. 14 пункт 10.3.<br></span><span title=\"11 0.9999\" style=\"background-color:#b40426\"> настоящего Устава и сервитутов), или о совершении сделки, связанной с возможностью отчуждения прямо или косвенно недвижимого имущества Общества,<br></span><span title=\"12 0.9777\" style=\"background-color:#b8122a\"> за исключением сделок с ПАО «Газпром нефть» и обществами, входящими в группу лиц с ним;\n",
              "<br></span><span title=\"13 0.8117\" style=\"background-color:#de614d\">принятие решений о совершении сделок, связанных с передачей в аренду/субаренду недвижимого имущества Общества,<br></span><span title=\"14 0.7470\" style=\"background-color:#e8765c\"> за исключением помещений и непрофильного имущества признанного таковым в соответствии с решением Совета директоров Общества, а также за исключением сделок с ПАО «Газпром нефть» и обществами,<br></span><span title=\"15 0.7615\" style=\"background-color:#e57058\"> входящими в группу лиц с ним;\n",
              "<br></span><span title=\"16 0.8028\" style=\"background-color:#df634e\">принятие решений о совершении сделок, связанных с получением в аренду/субаренду недвижимого имущества, за исключением земельных участков, на срок 1 год и более и на неопределенный срок,<br></span><span title=\"17 0.8663\" style=\"background-color:#d24b40\"> за исключением сделок, связанных с арендой/субарендой земельных участков/частей земельных участков, а также сделок с ПАО «Газпром нефть» и обществами, входящими в группу лиц с ним\n",
              "<br></span><span title=\"18 0.8599\" style=\"background-color:#d44e41\">принятие решений об отказе от аренды/субаренды земельных участков, за исключением сделок с ПАО «Газпром нефть» и обществами, входящими в группу лиц с ним;\n",
              "<br></span><span title=\"19 0.7938\" style=\"background-color:#e16751\">принятие решений о совершении сделок, связанных с приобретением или отчуждением долей в уставных капиталах, акций, облигаций, закладных,<br></span><span title=\"20 0.6803\" style=\"background-color:#f08a6c\"> векселей или иных ценных бумаг или любых прав в отношении такого имущества (путем конвертации, подписки, опционов или иным способом) любой компании или другой организации,<br></span><span title=\"21 0.9777\" style=\"background-color:#b8122a\"> за исключением сделок с ПАО «Газпром нефть» и обществами, входящими в группу лиц с ним;\n",
              "<br></span><span title=\"22 0.8167\" style=\"background-color:#dd5f4b\">принятие решений о совершении сделок, связанных с передачей в залог или установлением иных обременений в отношении принадлежащих Обществу долей в уставных капиталах или акций,<br></span><span title=\"23 0.9777\" style=\"background-color:#b8122a\"> за исключением сделок с ПАО «Газпром нефть» и обществами, входящими в группу лиц с ним;\n",
              "<br></span><span title=\"24 0.7930\" style=\"background-color:#e16751\">принятие решений о совершении сделок мены, дарения, иных сделок, предусматривающих безвозмездное отчуждение имущества Общества либо оплату (встречное предоставление) в неденежной форме,<br></span><span title=\"25 0.9777\" style=\"background-color:#b8122a\"> за исключением сделок с ПАО «Газпром нефть» и обществами, входящими в группу лиц с ним;\n",
              "<br></span><span title=\"26 0.7401\" style=\"background-color:#e9785d\">принятие решения о согласии на совершение Обществом сделок, в совершении которых имеется заинтересованность, в случаях,<br></span><span title=\"27 0.7347\" style=\"background-color:#e97a5f\"> установленных Статьей 12 настоящего Устава Если цена сделки или стоимость имущества, являющегося предметом сделки, превышает 10 процентов балансовой стоимости активов Общества,<br></span><span title=\"28 0.6444\" style=\"background-color:#f39475\"> определенной на основании данных бухгалтерской отчетности за последний отчетный период, совершение такой сделки требует обязательного предварительного согласия Общего собрания Участников Общества.\n",
              "<br></span><span title=\"29 0.8384\" style=\"background-color:#d85646\">принятие решения о согласии на совершение крупной сделки, связанной с приобретением, отчуждением или возможностью отчуждения Обществом прямо или косвенно имущества,<br></span><span title=\"30 0.6238\" style=\"background-color:#f49a7b\"> цена или балансовая стоимость которого без учета НДС составляет 50 и более процентов балансовой стоимости активов Общества,<br></span><span title=\"31 0.5286\" style=\"background-color:#f7b194\"> определенной по данным его бухгалтерской (финансовой) отчетности на последнюю отчетную дату, либо крупной сделки,<br></span><span title=\"32 0.6085\" style=\"background-color:#f59d7e\"> предусматривающей обязанность Общества передать имущество во временное владение и (или)<br></span><span title=\"33 0.6386\" style=\"background-color:#f39577\"> пользование либо предоставить третьему лицу право использования результата интеллектуальной деятельности или средства индивидуализации на условиях лицензии,<br></span><span title=\"34 0.5991\" style=\"background-color:#f5a081\"> если их балансовая стоимость без учета НДС составляет 25 и более процентов балансовой стоимости активов Общества,<br></span><span title=\"35 0.4610\" style=\"background-color:#f6bfa6\"> определенной по данным его бухгалтерской (финансовой) отчетности на последнюю отчетную дату<br></span>"
            ],
            "text/plain": [
              "<IPython.core.display.HTML object>"
            ]
          },
          "metadata": {
            "tags": []
          }
        }
      ]
    },
    {
      "cell_type": "code",
      "metadata": {
        "id": "ZtF0V1-cKqIt",
        "colab_type": "code",
        "colab": {
          "base_uri": "https://localhost:8080/",
          "height": 117
        },
        "outputId": "e65e459e-95e5-4e8a-8777-7544603ffc73"
      },
      "source": [
        "##-----------TEST\n",
        "best_index, max_sum, confidence = best_window(avs, 5)\n",
        "print(f'Confidence {confidence:1.4f}' )\n",
        "fake_contract.sentence_map.text_range( [best_index, best_index+5] )\n",
        "\n",
        "_slice = slice(best_index, best_index+5)\n",
        "renderer_.render_color_text(fake_contract.sentence_map.tokens[_slice],  avs[_slice], separator='<br>', _range=(0,1))"
      ],
      "execution_count": 111,
      "outputs": [
        {
          "output_type": "stream",
          "text": [
            "Confidence 0.9952\n"
          ],
          "name": "stdout"
        },
        {
          "output_type": "display_data",
          "data": {
            "text/html": [
              "<span title=\"0 1.0000\" style=\"background-color:#b40426\">принятие решений о совершении сделок, связанных с продажей, иным отчуждением, в том числе путем сноса и/или частичной или полной реконструкции,<br></span><span title=\"1 0.9990\" style=\"background-color:#b40426\"> осуществляемой по предложению/требованию государственных органов или иных третьих лиц, изъятия для государственных нужд,<br></span><span title=\"2 0.9995\" style=\"background-color:#b40426\"> отказа от собственности (кроме случаев фактической утраты) или обременением недвижимого имущества (за исключением случаев обременения недвижимого имущества, указанных в п. п. 14 пункт 10.3.<br></span><span title=\"3 0.9999\" style=\"background-color:#b40426\"> настоящего Устава и сервитутов), или о совершении сделки, связанной с возможностью отчуждения прямо или косвенно недвижимого имущества Общества,<br></span><span title=\"4 0.9777\" style=\"background-color:#b8122a\"> за исключением сделок с ПАО «Газпром нефть» и обществами, входящими в группу лиц с ним;\n",
              "<br></span>"
            ],
            "text/plain": [
              "<IPython.core.display.HTML object>"
            ]
          },
          "metadata": {
            "tags": []
          }
        }
      ]
    },
    {
      "cell_type": "markdown",
      "metadata": {
        "id": "VCaro9bYQAaL",
        "colab_type": "text"
      },
      "source": [
        "# Find all samplese in syntetic charter"
      ]
    },
    {
      "cell_type": "code",
      "metadata": {
        "id": "q5nw1kdWLv8n",
        "colab_type": "code",
        "colab": {
          "base_uri": "https://localhost:8080/",
          "height": 1000
        },
        "outputId": "041ff070-fc74-448f-dffd-f70eaf6b3164"
      },
      "source": [
        "for key in headline_to_emb.keys():\n",
        "  embedding_for_key=headline_to_emb[key]\n",
        "  pieces=len(embedding_for_key)\n",
        "  avs = multi_attention_vector (embedding_for_key, fake_contract.sentences_embeddings)\n",
        "  best_index, max_sum, confidence = best_window(avs, pieces)\n",
        "\n",
        "  \n",
        "  print('='*90)\n",
        "  print(key.upper())\n",
        "  print(f'Confidence {confidence:1.4f}' )\n",
        "  _slice = slice(best_index, best_index+pieces)\n",
        "  renderer_.render_color_text(fake_contract.sentence_map.tokens[_slice],  avs[_slice], separator='<br>', _range=(0,5))\n",
        "  print()\n"
      ],
      "execution_count": 123,
      "outputs": [
        {
          "output_type": "stream",
          "text": [
            "==========================================================================================\n",
            "СДЕЛКИ\n",
            "Confidence 0.9950\n"
          ],
          "name": "stdout"
        },
        {
          "output_type": "display_data",
          "data": {
            "text/html": [
              "<span title=\"0 1.0000\" style=\"background-color:#94b6ff\">принятие решений о совершении сделок (в том числе нескольких взаимосвязанных сделок) на сумму,<br></span><span title=\"1 0.9900\" style=\"background-color:#94b6ff\"> превышающую 100000000 (сто миллионов) рублей без учета НДС (или эквивалент указанной суммы в любой другой валюте),\n",
              "<br></span>"
            ],
            "text/plain": [
              "<IPython.core.display.HTML object>"
            ]
          },
          "metadata": {
            "tags": []
          }
        },
        {
          "output_type": "stream",
          "text": [
            "\n",
            "==========================================================================================\n",
            "СДЕЛКИ С ИМУЩЕСТВОМ\n",
            "Confidence 0.9963\n"
          ],
          "name": "stdout"
        },
        {
          "output_type": "display_data",
          "data": {
            "text/html": [
              "<span title=\"0 1.0000\" style=\"background-color:#94b6ff\">сделок (в том числе нескольких взаимосвязанных сделок) с имуществом Общества, стоимость которого на основании данных бухгалтерской отчетности Общества за последний отчетный период,<br></span><span title=\"1 1.0000\" style=\"background-color:#94b6ff\"> предшествующий дню принятия решения о совершении таких сделок, превышает 100000000 (сто миллионов) рублей без учета НДС (или эквивалент указанной суммы в любой другой валюте), за исключением сделок,<br></span><span title=\"2 0.9999\" style=\"background-color:#94b6ff\"> совершаемых в процессе обычной хозяйственной деятельности Общества, а также, за исключением сделок с ПАО «Газпром нефть» и обществами,<br></span><span title=\"3 0.9855\" style=\"background-color:#94b6ff\"> входящими в группу лиц с ним когда такая сделка или несколько взаимосвязанных сделок является(-ются) сделкой, в совершении которой имеется заинтересованность);\n",
              "<br></span>"
            ],
            "text/plain": [
              "<IPython.core.display.HTML object>"
            ]
          },
          "metadata": {
            "tags": []
          }
        },
        {
          "output_type": "stream",
          "text": [
            "\n",
            "==========================================================================================\n",
            "СДЕЛКИ С ЗАЙМАМИ/КРЕДИТАМИ\n",
            "Confidence 0.9969\n"
          ],
          "name": "stdout"
        },
        {
          "output_type": "display_data",
          "data": {
            "text/html": [
              "<span title=\"0 1.0000\" style=\"background-color:#94b6ff\">принятие решений о совершении сделок, связанных с получением или предоставлением Обществом займов, кредитов (в том числе вексельных),<br></span><span title=\"1 0.9938\" style=\"background-color:#94b6ff\"> предоставлением гарантий и поручительств по обязательствам Общества и(или) третьих лиц, за исключением сделок с ПАО «Газпром нефть» и обществами, входящими в группу лиц с ним;\n",
              "<br></span>"
            ],
            "text/plain": [
              "<IPython.core.display.HTML object>"
            ]
          },
          "metadata": {
            "tags": []
          }
        },
        {
          "output_type": "stream",
          "text": [
            "\n",
            "==========================================================================================\n",
            "ПРОДАЖА И ОТЧУЖДЕНИЕ НЕДВИЖИМОГО ИМУЩЕСТВА\n",
            "Confidence 0.9952\n"
          ],
          "name": "stdout"
        },
        {
          "output_type": "display_data",
          "data": {
            "text/html": [
              "<span title=\"0 1.0000\" style=\"background-color:#94b6ff\">принятие решений о совершении сделок, связанных с продажей, иным отчуждением, в том числе путем сноса и/или частичной или полной реконструкции,<br></span><span title=\"1 0.9990\" style=\"background-color:#94b6ff\"> осуществляемой по предложению/требованию государственных органов или иных третьих лиц, изъятия для государственных нужд,<br></span><span title=\"2 0.9995\" style=\"background-color:#94b6ff\"> отказа от собственности (кроме случаев фактической утраты) или обременением недвижимого имущества (за исключением случаев обременения недвижимого имущества, указанных в п. п. 14 пункт 10.3.<br></span><span title=\"3 0.9999\" style=\"background-color:#94b6ff\"> настоящего Устава и сервитутов), или о совершении сделки, связанной с возможностью отчуждения прямо или косвенно недвижимого имущества Общества,<br></span><span title=\"4 0.9777\" style=\"background-color:#93b5fe\"> за исключением сделок с ПАО «Газпром нефть» и обществами, входящими в группу лиц с ним;\n",
              "<br></span>"
            ],
            "text/plain": [
              "<IPython.core.display.HTML object>"
            ]
          },
          "metadata": {
            "tags": []
          }
        },
        {
          "output_type": "stream",
          "text": [
            "\n",
            "==========================================================================================\n",
            "ПЕРЕДАЧА В АРЕНДУ\n",
            "Confidence 0.9742\n"
          ],
          "name": "stdout"
        },
        {
          "output_type": "display_data",
          "data": {
            "text/html": [
              "<span title=\"0 0.9924\" style=\"background-color:#94b6ff\">принятие решений о совершении сделок, связанных с передачей в аренду/субаренду недвижимого имущества Общества,<br></span><span title=\"1 0.9946\" style=\"background-color:#94b6ff\"> за исключением помещений и непрофильного имущества признанного таковым в соответствии с решением Совета директоров Общества, а также за исключением сделок с ПАО «Газпром нефть» и обществами,<br></span><span title=\"2 0.9358\" style=\"background-color:#90b2fe\"> входящими в группу лиц с ним;\n",
              "<br></span>"
            ],
            "text/plain": [
              "<IPython.core.display.HTML object>"
            ]
          },
          "metadata": {
            "tags": []
          }
        },
        {
          "output_type": "stream",
          "text": [
            "\n",
            "==========================================================================================\n",
            "ПОЛУЧЕНИЕ В АРЕНДУ НЕДВИЖИМОГО ИМУЩЕСТВА\n",
            "Confidence 0.9877\n"
          ],
          "name": "stdout"
        },
        {
          "output_type": "display_data",
          "data": {
            "text/html": [
              "<span title=\"0 0.9952\" style=\"background-color:#94b6ff\">принятие решений о совершении сделок, связанных с получением в аренду/субаренду недвижимого имущества, за исключением земельных участков, на срок 1 год и более и на неопределенный срок,<br></span><span title=\"1 0.9802\" style=\"background-color:#93b5fe\"> за исключением сделок, связанных с арендой/субарендой земельных участков/частей земельных участков, а также сделок с ПАО «Газпром нефть» и обществами, входящими в группу лиц с ним\n",
              "<br></span>"
            ],
            "text/plain": [
              "<IPython.core.display.HTML object>"
            ]
          },
          "metadata": {
            "tags": []
          }
        },
        {
          "output_type": "stream",
          "text": [
            "\n",
            "==========================================================================================\n",
            "ОТКАЗ ОТ АРЕНДЫ ЗЕМЕЛЬНЫХ УЧАСТКОВ\n",
            "Confidence 0.9862\n"
          ],
          "name": "stdout"
        },
        {
          "output_type": "display_data",
          "data": {
            "text/html": [
              "<span title=\"0 0.9862\" style=\"background-color:#94b6ff\">принятие решений об отказе от аренды/субаренды земельных участков, за исключением сделок с ПАО «Газпром нефть» и обществами, входящими в группу лиц с ним;\n",
              "<br></span>"
            ],
            "text/plain": [
              "<IPython.core.display.HTML object>"
            ]
          },
          "metadata": {
            "tags": []
          }
        },
        {
          "output_type": "stream",
          "text": [
            "\n",
            "==========================================================================================\n",
            "СДЕЛКИ С ЦЕННЫМИ БУМАГАМИ\n",
            "Confidence 0.9894\n"
          ],
          "name": "stdout"
        },
        {
          "output_type": "display_data",
          "data": {
            "text/html": [
              "<span title=\"0 0.9948\" style=\"background-color:#94b6ff\">принятие решений о совершении сделок, связанных с приобретением или отчуждением долей в уставных капиталах, акций, облигаций, закладных,<br></span><span title=\"1 0.9957\" style=\"background-color:#94b6ff\"> векселей или иных ценных бумаг или любых прав в отношении такого имущества (путем конвертации, подписки, опционов или иным способом) любой компании или другой организации,<br></span><span title=\"2 0.9777\" style=\"background-color:#93b5fe\"> за исключением сделок с ПАО «Газпром нефть» и обществами, входящими в группу лиц с ним;\n",
              "<br></span>"
            ],
            "text/plain": [
              "<IPython.core.display.HTML object>"
            ]
          },
          "metadata": {
            "tags": []
          }
        },
        {
          "output_type": "stream",
          "text": [
            "\n",
            "==========================================================================================\n",
            "СДЕЛКИ ПЕРЕДАЧИ В ЗАЛОГ УСТАВНЫХ КАПИТАЛОВ И АКЦИЙ\n",
            "Confidence 0.9868\n"
          ],
          "name": "stdout"
        },
        {
          "output_type": "display_data",
          "data": {
            "text/html": [
              "<span title=\"0 0.9777\" style=\"background-color:#93b5fe\"> за исключением сделок с ПАО «Газпром нефть» и обществами, входящими в группу лиц с ним;\n",
              "<br></span><span title=\"1 0.9959\" style=\"background-color:#94b6ff\">принятие решений о совершении сделок, связанных с передачей в залог или установлением иных обременений в отношении принадлежащих Обществу долей в уставных капиталах или акций,<br></span>"
            ],
            "text/plain": [
              "<IPython.core.display.HTML object>"
            ]
          },
          "metadata": {
            "tags": []
          }
        },
        {
          "output_type": "stream",
          "text": [
            "\n",
            "==========================================================================================\n",
            "БЛАГОТВОРИТЕЛЬНОСТЬ\n",
            "Confidence 0.9865\n"
          ],
          "name": "stdout"
        },
        {
          "output_type": "display_data",
          "data": {
            "text/html": [
              "<span title=\"0 0.9777\" style=\"background-color:#93b5fe\"> за исключением сделок с ПАО «Газпром нефть» и обществами, входящими в группу лиц с ним;\n",
              "<br></span><span title=\"1 0.9953\" style=\"background-color:#94b6ff\">принятие решений о совершении сделок мены, дарения, иных сделок, предусматривающих безвозмездное отчуждение имущества Общества либо оплату (встречное предоставление) в неденежной форме,<br></span>"
            ],
            "text/plain": [
              "<IPython.core.display.HTML object>"
            ]
          },
          "metadata": {
            "tags": []
          }
        },
        {
          "output_type": "stream",
          "text": [
            "\n",
            "==========================================================================================\n",
            "СДЕЛКИ С ЗАИНТЕРЕСОВАННОСТЬЮ\n",
            "Confidence 0.9905\n"
          ],
          "name": "stdout"
        },
        {
          "output_type": "display_data",
          "data": {
            "text/html": [
              "<span title=\"0 0.9929\" style=\"background-color:#94b6ff\">принятие решения о согласии на совершение Обществом сделок, в совершении которых имеется заинтересованность, в случаях,<br></span><span title=\"1 0.9967\" style=\"background-color:#94b6ff\"> установленных Статьей 12 настоящего Устава Если цена сделки или стоимость имущества, являющегося предметом сделки, превышает 10 процентов балансовой стоимости активов Общества,<br></span><span title=\"2 0.9821\" style=\"background-color:#93b5fe\"> определенной на основании данных бухгалтерской отчетности за последний отчетный период, совершение такой сделки требует обязательного предварительного согласия Общего собрания Участников Общества.\n",
              "<br></span>"
            ],
            "text/plain": [
              "<IPython.core.display.HTML object>"
            ]
          },
          "metadata": {
            "tags": []
          }
        },
        {
          "output_type": "stream",
          "text": [
            "\n",
            "==========================================================================================\n",
            "КРУПНАЯ СДЕЛКА\n",
            "Confidence 0.9935\n"
          ],
          "name": "stdout"
        },
        {
          "output_type": "display_data",
          "data": {
            "text/html": [
              "<span title=\"0 0.9952\" style=\"background-color:#94b6ff\">принятие решения о согласии на совершение крупной сделки, связанной с приобретением, отчуждением или возможностью отчуждения Обществом прямо или косвенно имущества,<br></span><span title=\"1 0.9933\" style=\"background-color:#94b6ff\"> цена или балансовая стоимость которого без учета НДС составляет 50 и более процентов балансовой стоимости активов Общества,<br></span><span title=\"2 0.9940\" style=\"background-color:#94b6ff\"> определенной по данным его бухгалтерской (финансовой) отчетности на последнюю отчетную дату, либо крупной сделки,<br></span><span title=\"3 0.9899\" style=\"background-color:#94b6ff\"> предусматривающей обязанность Общества передать имущество во временное владение и (или)<br></span><span title=\"4 0.9933\" style=\"background-color:#94b6ff\"> пользование либо предоставить третьему лицу право использования результата интеллектуальной деятельности или средства индивидуализации на условиях лицензии,<br></span><span title=\"5 0.9948\" style=\"background-color:#94b6ff\"> если их балансовая стоимость без учета НДС составляет 25 и более процентов балансовой стоимости активов Общества,<br></span><span title=\"6 0.9937\" style=\"background-color:#94b6ff\"> определенной по данным его бухгалтерской (финансовой) отчетности на последнюю отчетную дату<br></span>"
            ],
            "text/plain": [
              "<IPython.core.display.HTML object>"
            ]
          },
          "metadata": {
            "tags": []
          }
        },
        {
          "output_type": "stream",
          "text": [
            "\n"
          ],
          "name": "stdout"
        }
      ]
    }
  ]
}